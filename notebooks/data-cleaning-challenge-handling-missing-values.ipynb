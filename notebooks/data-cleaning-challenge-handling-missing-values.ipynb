{
 "cells": [
  {
   "cell_type": "markdown",
   "metadata": {
    "_cell_guid": "b91a74ba-85f4-486e-b5f9-d0898f0626bf",
    "_uuid": "6ac53f18b4f4ec0fc44348cedb5d1c319fa127c0"
   },
   "source": [
    "### All days of the challange:\n",
    "\n",
    "* [Day 1: Handling missing values](https://www.kaggle.com/rtatman/data-cleaning-challenge-handling-missing-values)\n",
    "* [Day 2: Scaling and normalization](https://www.kaggle.com/rtatman/data-cleaning-challenge-scale-and-normalize-data)\n",
    "* [Day 3: Parsing dates](https://www.kaggle.com/rtatman/data-cleaning-challenge-parsing-dates/)\n",
    "* [Day 4: Character encodings](https://www.kaggle.com/rtatman/data-cleaning-challenge-character-encodings/)\n",
    "* [Day 5: Inconsistent Data Entry](https://www.kaggle.com/rtatman/data-cleaning-challenge-inconsistent-data-entry/)\n",
    "___\n",
    "Welcome to day 1 of the 5-Day Data Challenge! Today, we're going to be looking at how to deal with missing values. To get started, click the blue \"Fork Notebook\" button in the upper, right hand corner. This will create a private copy of this notebook that you can edit and play with. Once you're finished with the exercises, you can choose to make your notebook public to share with others. :)\n",
    "\n",
    "> **Your turn!** As we work through this notebook, you'll see some notebook cells (a block of either code or text) that has \"Your Turn!\" written in it. These are exercises for you to do to help cement your understanding of the concepts we're talking about. Once you've written the code to answer a specific question, you can run the code by clicking inside the cell (box with code in it) with the code you want to run and then hit CTRL + ENTER (CMD + ENTER on a Mac). You can also click in a cell and then click on the right \"play\" arrow to the left of the code. If you want to run all the code in your notebook, you can use the double, \"fast forward\" arrows at the bottom of the notebook editor.\n",
    "\n",
    "Here's what we're going to do today:\n",
    "\n",
    "* [Take a first look at the data](#Take-a-first-look-at-the-data)\n",
    "* [See how many missing data points we have](#See-how-many-missing-data-points-we-have)\n",
    "* [Figure out why the data is missing](#Figure-out-why-the-data-is-missing)\n",
    "* [Drop missing values](#Drop-missing-values)\n",
    "* [Filling in missing values](#Filling-in-missing-values)\n",
    "\n",
    "Let's get started!"
   ]
  },
  {
   "cell_type": "markdown",
   "metadata": {
    "_cell_guid": "5cd5061f-ae30-4837-a53b-690ffd5c5830",
    "_uuid": "9d82bf13584b8e682962fbb96131f2447d741679"
   },
   "source": [
    "# Take a first look at the data\n",
    "________\n",
    "\n",
    "The first thing we'll need to do is load in the libraries and datasets we'll be using. For today, I'll be using a dataset of events that occured in American Football games for demonstration, and you'll be using a dataset of building permits issued in San Francisco.\n",
    "\n",
    "> **Important!** Make sure you run this cell yourself or the rest of your code won't work!"
   ]
  },
  {
   "cell_type": "code",
   "execution_count": 12,
   "metadata": {
    "_cell_guid": "135a7804-b5f5-40aa-8657-4a15774e3666",
    "_uuid": "835cbe0834b935fb0fd40c75b9c39454836f4d5f",
    "collapsed": true,
    "jupyter": {
     "outputs_hidden": true
    },
    "trusted": false
   },
   "outputs": [
    {
     "name": "stdout",
     "output_type": "stream",
     "text": [
      "Path to dataset files: /Users/spencerdansby/.cache/kagglehub/datasets/maxhorowitz/nflplaybyplay2009to2016/versions/6\n"
     ]
    },
    {
     "name": "stderr",
     "output_type": "stream",
     "text": [
      "/var/folders/tv/tsldvz5n0_7bgsk90mvshqb00000gn/T/ipykernel_42149/2711397703.py:13: DtypeWarning: Columns (25,51) have mixed types. Specify dtype option on import or set low_memory=False.\n",
      "  nfl_data = pd.read_csv(nfl_path + \"/NFL Play by Play 2009-2017 (v4).csv\")\n",
      "/var/folders/tv/tsldvz5n0_7bgsk90mvshqb00000gn/T/ipykernel_42149/2711397703.py:14: DtypeWarning: Columns (22,32) have mixed types. Specify dtype option on import or set low_memory=False.\n",
      "  sf_permits = pd.read_csv(building_permit_applications_data_path + \"/Building_Permits.csv\")\n"
     ]
    }
   ],
   "source": [
    "# modules we'll use\n",
    "import pandas as pd\n",
    "import numpy as np\n",
    "import kagglehub\n",
    "\n",
    "# Download latest version\n",
    "nfl_path = kagglehub.dataset_download(\"maxhorowitz/nflplaybyplay2009to2016\")\n",
    "building_permit_applications_data_path = kagglehub.dataset_download('aparnashastry/building-permit-applications-data')\n",
    "\n",
    "print(\"Path to dataset files:\", nfl_path)\n",
    "\n",
    "# read in all our data\n",
    "nfl_data = pd.read_csv(nfl_path + \"/NFL Play by Play 2009-2017 (v4).csv\")\n",
    "sf_permits = pd.read_csv(building_permit_applications_data_path + \"/Building_Permits.csv\")\n",
    "\n",
    "# set seed for reproducibility\n",
    "np.random.seed(0) "
   ]
  },
  {
   "cell_type": "markdown",
   "metadata": {
    "_cell_guid": "09b58d03-d34d-497a-b298-12a0ae962e3d",
    "_uuid": "53c84bf86149ac41b237633a1a79d6130d6a2cd4"
   },
   "source": [
    "The first thing I do when I get a new dataset is take a look at some of it. This lets me see that it all read in correctly and get an idea of what's going on with the data. In this case, I'm looking to see if I see any missing values, which will be reprsented with `NaN` or `None`."
   ]
  },
  {
   "cell_type": "code",
   "execution_count": 13,
   "metadata": {
    "_cell_guid": "79c7e3d0-c299-4dcb-8224-4455121ee9b0",
    "_uuid": "d629ff2d2480ee46fbb7e2d37f6b5fab8052498a",
    "collapsed": true,
    "jupyter": {
     "outputs_hidden": true
    },
    "trusted": false
   },
   "outputs": [
    {
     "data": {
      "application/vnd.microsoft.datawrangler.viewer.v0+json": {
       "columns": [
        {
         "name": "index",
         "rawType": "int64",
         "type": "integer"
        },
        {
         "name": "Date",
         "rawType": "object",
         "type": "string"
        },
        {
         "name": "GameID",
         "rawType": "int64",
         "type": "integer"
        },
        {
         "name": "Drive",
         "rawType": "int64",
         "type": "integer"
        },
        {
         "name": "qtr",
         "rawType": "int64",
         "type": "integer"
        },
        {
         "name": "down",
         "rawType": "float64",
         "type": "float"
        },
        {
         "name": "time",
         "rawType": "object",
         "type": "string"
        },
        {
         "name": "TimeUnder",
         "rawType": "int64",
         "type": "integer"
        },
        {
         "name": "TimeSecs",
         "rawType": "float64",
         "type": "float"
        },
        {
         "name": "PlayTimeDiff",
         "rawType": "float64",
         "type": "float"
        },
        {
         "name": "SideofField",
         "rawType": "object",
         "type": "string"
        },
        {
         "name": "yrdln",
         "rawType": "float64",
         "type": "float"
        },
        {
         "name": "yrdline100",
         "rawType": "float64",
         "type": "float"
        },
        {
         "name": "ydstogo",
         "rawType": "int64",
         "type": "integer"
        },
        {
         "name": "ydsnet",
         "rawType": "int64",
         "type": "integer"
        },
        {
         "name": "GoalToGo",
         "rawType": "float64",
         "type": "float"
        },
        {
         "name": "FirstDown",
         "rawType": "float64",
         "type": "float"
        },
        {
         "name": "posteam",
         "rawType": "object",
         "type": "string"
        },
        {
         "name": "DefensiveTeam",
         "rawType": "object",
         "type": "string"
        },
        {
         "name": "desc",
         "rawType": "object",
         "type": "string"
        },
        {
         "name": "PlayAttempted",
         "rawType": "int64",
         "type": "integer"
        },
        {
         "name": "Yards.Gained",
         "rawType": "int64",
         "type": "integer"
        },
        {
         "name": "sp",
         "rawType": "int64",
         "type": "integer"
        },
        {
         "name": "Touchdown",
         "rawType": "int64",
         "type": "integer"
        },
        {
         "name": "ExPointResult",
         "rawType": "object",
         "type": "unknown"
        },
        {
         "name": "TwoPointConv",
         "rawType": "object",
         "type": "unknown"
        },
        {
         "name": "DefTwoPoint",
         "rawType": "object",
         "type": "unknown"
        },
        {
         "name": "Safety",
         "rawType": "int64",
         "type": "integer"
        },
        {
         "name": "Onsidekick",
         "rawType": "int64",
         "type": "integer"
        },
        {
         "name": "PuntResult",
         "rawType": "object",
         "type": "unknown"
        },
        {
         "name": "PlayType",
         "rawType": "object",
         "type": "string"
        },
        {
         "name": "Passer",
         "rawType": "object",
         "type": "unknown"
        },
        {
         "name": "Passer_ID",
         "rawType": "object",
         "type": "unknown"
        },
        {
         "name": "PassAttempt",
         "rawType": "int64",
         "type": "integer"
        },
        {
         "name": "PassOutcome",
         "rawType": "object",
         "type": "unknown"
        },
        {
         "name": "PassLength",
         "rawType": "object",
         "type": "unknown"
        },
        {
         "name": "AirYards",
         "rawType": "int64",
         "type": "integer"
        },
        {
         "name": "YardsAfterCatch",
         "rawType": "int64",
         "type": "integer"
        },
        {
         "name": "QBHit",
         "rawType": "int64",
         "type": "integer"
        },
        {
         "name": "PassLocation",
         "rawType": "object",
         "type": "unknown"
        },
        {
         "name": "InterceptionThrown",
         "rawType": "int64",
         "type": "integer"
        },
        {
         "name": "Interceptor",
         "rawType": "object",
         "type": "unknown"
        },
        {
         "name": "Rusher",
         "rawType": "object",
         "type": "unknown"
        },
        {
         "name": "Rusher_ID",
         "rawType": "object",
         "type": "unknown"
        },
        {
         "name": "RushAttempt",
         "rawType": "int64",
         "type": "integer"
        },
        {
         "name": "RunLocation",
         "rawType": "object",
         "type": "unknown"
        },
        {
         "name": "RunGap",
         "rawType": "object",
         "type": "unknown"
        },
        {
         "name": "Receiver",
         "rawType": "object",
         "type": "unknown"
        },
        {
         "name": "Receiver_ID",
         "rawType": "object",
         "type": "unknown"
        },
        {
         "name": "Reception",
         "rawType": "int64",
         "type": "integer"
        },
        {
         "name": "ReturnResult",
         "rawType": "object",
         "type": "unknown"
        },
        {
         "name": "Returner",
         "rawType": "object",
         "type": "unknown"
        },
        {
         "name": "BlockingPlayer",
         "rawType": "object",
         "type": "unknown"
        },
        {
         "name": "Tackler1",
         "rawType": "object",
         "type": "unknown"
        },
        {
         "name": "Tackler2",
         "rawType": "object",
         "type": "unknown"
        },
        {
         "name": "FieldGoalResult",
         "rawType": "object",
         "type": "unknown"
        },
        {
         "name": "FieldGoalDistance",
         "rawType": "float64",
         "type": "float"
        },
        {
         "name": "Fumble",
         "rawType": "int64",
         "type": "integer"
        },
        {
         "name": "RecFumbTeam",
         "rawType": "object",
         "type": "unknown"
        },
        {
         "name": "RecFumbPlayer",
         "rawType": "object",
         "type": "unknown"
        },
        {
         "name": "Sack",
         "rawType": "int64",
         "type": "integer"
        },
        {
         "name": "Challenge.Replay",
         "rawType": "int64",
         "type": "integer"
        },
        {
         "name": "ChalReplayResult",
         "rawType": "object",
         "type": "unknown"
        },
        {
         "name": "Accepted.Penalty",
         "rawType": "int64",
         "type": "integer"
        },
        {
         "name": "PenalizedTeam",
         "rawType": "object",
         "type": "unknown"
        },
        {
         "name": "PenaltyType",
         "rawType": "object",
         "type": "unknown"
        },
        {
         "name": "PenalizedPlayer",
         "rawType": "object",
         "type": "unknown"
        },
        {
         "name": "Penalty.Yards",
         "rawType": "int64",
         "type": "integer"
        },
        {
         "name": "PosTeamScore",
         "rawType": "float64",
         "type": "float"
        },
        {
         "name": "DefTeamScore",
         "rawType": "float64",
         "type": "float"
        },
        {
         "name": "ScoreDiff",
         "rawType": "float64",
         "type": "float"
        },
        {
         "name": "AbsScoreDiff",
         "rawType": "float64",
         "type": "float"
        },
        {
         "name": "HomeTeam",
         "rawType": "object",
         "type": "string"
        },
        {
         "name": "AwayTeam",
         "rawType": "object",
         "type": "string"
        },
        {
         "name": "Timeout_Indicator",
         "rawType": "int64",
         "type": "integer"
        },
        {
         "name": "Timeout_Team",
         "rawType": "object",
         "type": "unknown"
        },
        {
         "name": "posteam_timeouts_pre",
         "rawType": "int64",
         "type": "integer"
        },
        {
         "name": "HomeTimeouts_Remaining_Pre",
         "rawType": "int64",
         "type": "integer"
        },
        {
         "name": "AwayTimeouts_Remaining_Pre",
         "rawType": "int64",
         "type": "integer"
        },
        {
         "name": "HomeTimeouts_Remaining_Post",
         "rawType": "int64",
         "type": "integer"
        },
        {
         "name": "AwayTimeouts_Remaining_Post",
         "rawType": "int64",
         "type": "integer"
        },
        {
         "name": "No_Score_Prob",
         "rawType": "float64",
         "type": "float"
        },
        {
         "name": "Opp_Field_Goal_Prob",
         "rawType": "float64",
         "type": "float"
        },
        {
         "name": "Opp_Safety_Prob",
         "rawType": "float64",
         "type": "float"
        },
        {
         "name": "Opp_Touchdown_Prob",
         "rawType": "float64",
         "type": "float"
        },
        {
         "name": "Field_Goal_Prob",
         "rawType": "float64",
         "type": "float"
        },
        {
         "name": "Safety_Prob",
         "rawType": "float64",
         "type": "float"
        },
        {
         "name": "Touchdown_Prob",
         "rawType": "float64",
         "type": "float"
        },
        {
         "name": "ExPoint_Prob",
         "rawType": "float64",
         "type": "float"
        },
        {
         "name": "TwoPoint_Prob",
         "rawType": "float64",
         "type": "float"
        },
        {
         "name": "ExpPts",
         "rawType": "float64",
         "type": "float"
        },
        {
         "name": "EPA",
         "rawType": "float64",
         "type": "float"
        },
        {
         "name": "airEPA",
         "rawType": "float64",
         "type": "float"
        },
        {
         "name": "yacEPA",
         "rawType": "float64",
         "type": "float"
        },
        {
         "name": "Home_WP_pre",
         "rawType": "float64",
         "type": "float"
        },
        {
         "name": "Away_WP_pre",
         "rawType": "float64",
         "type": "float"
        },
        {
         "name": "Home_WP_post",
         "rawType": "float64",
         "type": "float"
        },
        {
         "name": "Away_WP_post",
         "rawType": "float64",
         "type": "float"
        },
        {
         "name": "Win_Prob",
         "rawType": "float64",
         "type": "float"
        },
        {
         "name": "WPA",
         "rawType": "float64",
         "type": "float"
        },
        {
         "name": "airWPA",
         "rawType": "float64",
         "type": "float"
        },
        {
         "name": "yacWPA",
         "rawType": "float64",
         "type": "float"
        },
        {
         "name": "Season",
         "rawType": "int64",
         "type": "integer"
        }
       ],
       "conversionMethod": "pd.DataFrame",
       "ref": "57ffdb76-72d1-4f69-9b10-0d9e96c29c65",
       "rows": [
        [
         "244485",
         "2014-10-26",
         "2014102607",
         "18",
         "3",
         "1.0",
         "00:39",
         "1",
         "939.0",
         "12.0",
         "TB",
         "49.0",
         "51.0",
         "10",
         "11",
         "0.0",
         "1.0",
         "TB",
         "MIN",
         "(:39) M.Glennon pass short middle to B.Rainey pushed ob at MIN 40 for 11 yards (X.Rhodes).",
         "1",
         "11",
         "0",
         "0",
         null,
         null,
         null,
         "0",
         "0",
         null,
         "Pass",
         "M.Glennon",
         "00-0030520",
         "1",
         "Complete",
         "Short",
         "0",
         "11",
         "0",
         "middle",
         "0",
         null,
         null,
         null,
         "0",
         null,
         null,
         "B.Rainey",
         "00-0029384",
         "1",
         null,
         null,
         null,
         "X.Rhodes",
         null,
         null,
         null,
         "0",
         null,
         null,
         "0",
         "0",
         null,
         "0",
         null,
         null,
         null,
         "0",
         "0.0",
         "10.0",
         "-10.0",
         "10.0",
         "TB",
         "MIN",
         "0",
         null,
         "3",
         "3",
         "3",
         "3",
         "3",
         "0.0241336619253006",
         "0.0833352622492945",
         "0.0005270875156275955",
         "0.1256242935060323",
         "0.3094042318089232",
         "0.0032790871212952",
         "0.4536963758735264",
         "0.0",
         "0.0",
         "2.9802154844626796",
         "0.6521985859181227",
         "-0.5881008295640187",
         "1.2402994154821414",
         "0.2256473500117122",
         "0.7743526499882878",
         "0.245582460257414",
         "0.7544175397425861",
         "0.2256473500117122",
         "0.0199351102457017",
         "-0.0181556763902906",
         "0.0380907866359924",
         "2014"
        ],
        [
         "115340",
         "2011-11-20",
         "2011112000",
         "22",
         "4",
         "1.0",
         "06:47",
         "7",
         "407.0",
         "44.0",
         "OAK",
         "31.0",
         "69.0",
         "10",
         "24",
         "0.0",
         "1.0",
         "OAK",
         "MIN",
         "(6:47) M.Bush up the middle to OAK 44 for 13 yards (Ty.Johnson).",
         "1",
         "13",
         "0",
         "0",
         null,
         null,
         null,
         "0",
         "0",
         null,
         "Run",
         null,
         null,
         "0",
         null,
         null,
         "0",
         "0",
         "0",
         null,
         "0",
         null,
         "M.Bush",
         "00-0025487",
         "1",
         "middle",
         null,
         null,
         null,
         "0",
         null,
         null,
         null,
         "Ty.Johnson",
         null,
         null,
         null,
         "0",
         null,
         null,
         "0",
         "0",
         null,
         "0",
         null,
         null,
         null,
         "0",
         "27.0",
         "14.0",
         "13.0",
         "13.0",
         "MIN",
         "OAK",
         "0",
         null,
         "3",
         "3",
         "3",
         "3",
         "3",
         "0.2469292082483666",
         "0.1011015149491307",
         "0.0018825080296051",
         "0.149761861308154",
         "0.1981424057979746",
         "0.0025982300145029",
         "0.2995842716522657",
         "0.0",
         "0.0",
         "1.3413109889251087",
         "0.8719436721639886",
         null,
         null,
         "0.0560360347382915",
         "0.9439639652617084",
         "0.0429628061619825",
         "0.9570371938380174",
         "0.9439639652617084",
         "0.0130732285763089",
         null,
         null,
         "2011"
        ],
        [
         "68357",
         "2010-11-14",
         "2010111401",
         "8",
         "2",
         null,
         "00:23",
         "1",
         "1823.0",
         "0.0",
         "CLE",
         "2.0",
         "2.0",
         "0",
         "80",
         "0.0",
         "0.0",
         "NYJ",
         "CLE",
         "N.Folk extra point is GOOD, Center-T.Purdum, Holder-S.Weatherford.",
         "1",
         "0",
         "1",
         "0",
         "Made",
         null,
         null,
         "0",
         "0",
         null,
         "Extra Point",
         null,
         null,
         "0",
         null,
         null,
         "0",
         "0",
         "0",
         null,
         "0",
         null,
         null,
         null,
         "0",
         null,
         null,
         null,
         null,
         "0",
         null,
         null,
         null,
         null,
         null,
         null,
         null,
         "0",
         null,
         null,
         "0",
         "0",
         null,
         "0",
         null,
         null,
         null,
         "0",
         "16.0",
         "13.0",
         "3.0",
         "3.0",
         "CLE",
         "NYJ",
         "0",
         null,
         "1",
         "2",
         "1",
         "2",
         "1",
         "0.0",
         "0.0",
         "0.0",
         "0.0",
         "0.0",
         "0.0",
         "0.0",
         "0.9907954004544308",
         "0.0",
         "0.9907954004544308",
         "0.009204599545569",
         null,
         null,
         "0.3653069357036392",
         "0.6346930642963607",
         "0.3846972444111719",
         "0.6153027555888281",
         "0.6346930642963607",
         "-0.0193903087075326",
         null,
         null,
         "2010"
        ],
        [
         "368377",
         "2017-09-24",
         "2017092405",
         "24",
         "4",
         "1.0",
         "08:48",
         "9",
         "528.0",
         "8.0",
         "CLE",
         "42.0",
         "58.0",
         "10",
         "25",
         "0.0",
         "1.0",
         "CLE",
         "IND",
         "(8:48) (Shotgun) D.Kizer pass short middle to D.Johnson to IND 33 for 25 yards (M.Farley).",
         "1",
         "25",
         "0",
         "0",
         null,
         null,
         null,
         "0",
         "0",
         null,
         "Pass",
         "D.Kizer",
         "00-0033899",
         "1",
         "Complete",
         "Short",
         "7",
         "18",
         "0",
         "middle",
         "0",
         null,
         null,
         null,
         "0",
         null,
         null,
         "D.Johnson",
         "00-0032257",
         "1",
         null,
         null,
         null,
         "M.Farley",
         null,
         null,
         null,
         "0",
         null,
         null,
         "0",
         "0",
         null,
         "0",
         null,
         null,
         null,
         "0",
         "14.0",
         "31.0",
         "-17.0",
         "17.0",
         "IND",
         "CLE",
         "0",
         null,
         "0",
         "2",
         "0",
         "2",
         "0",
         "0.1338136067236248",
         "0.0880174291363933",
         "0.0008446710354336466",
         "0.1307677947301457",
         "0.2582274808463302",
         "0.0029314993042957",
         "0.3853975182237764",
         "0.0",
         "0.0",
         "2.297211876122949",
         "1.4777403106952924",
         "0.4020798495044557",
         "1.0756604611908367",
         "0.9359951594689602",
         "0.0640048405310398",
         "0.9212309302823484",
         "0.0787690697176517",
         "0.0640048405310398",
         "0.0147642291866118",
         "0.0038655274082572",
         "0.0108987017783546",
         "2017"
        ],
        [
         "384684",
         "2017-11-05",
         "2017110505",
         "11",
         "2",
         "1.0",
         "09:15",
         "10",
         "2355.0",
         "0.0",
         "DEN",
         "25.0",
         "75.0",
         "10",
         "0",
         "0.0",
         "0.0",
         "DEN",
         "PHI",
         "(9:15) (Shotgun) J.Charles right end to DEN 25 for no gain (B.Graham).",
         "1",
         "0",
         "0",
         "0",
         null,
         null,
         null,
         "0",
         "0",
         null,
         "Run",
         null,
         null,
         "0",
         null,
         null,
         "0",
         "0",
         "0",
         null,
         "0",
         null,
         "J.Charles",
         "00-0026213",
         "1",
         "right",
         "end",
         null,
         null,
         "0",
         null,
         null,
         null,
         "B.Graham",
         null,
         null,
         null,
         "0",
         null,
         null,
         "0",
         "0",
         null,
         "0",
         null,
         null,
         null,
         "0",
         "6.0",
         "24.0",
         "-18.0",
         "18.0",
         "PHI",
         "DEN",
         "0",
         null,
         "2",
         "3",
         "2",
         "3",
         "2",
         "0.1707871840913217",
         "0.1287659538797524",
         "0.0034526492272884",
         "0.1919822388862792",
         "0.1997706852635111",
         "0.0028759494006252",
         "0.3023653392512218",
         "0.0",
         "0.0",
         "0.9845424970525474",
         "-0.6371782665533923",
         null,
         null,
         "0.9284742874107484",
         "0.0715257125892516",
         "0.9346406166496296",
         "0.0653593833503702",
         "0.0715257125892516",
         "-0.0061663292388813",
         null,
         null,
         "2017"
        ]
       ],
       "shape": {
        "columns": 102,
        "rows": 5
       }
      },
      "text/html": [
       "<div>\n",
       "<style scoped>\n",
       "    .dataframe tbody tr th:only-of-type {\n",
       "        vertical-align: middle;\n",
       "    }\n",
       "\n",
       "    .dataframe tbody tr th {\n",
       "        vertical-align: top;\n",
       "    }\n",
       "\n",
       "    .dataframe thead th {\n",
       "        text-align: right;\n",
       "    }\n",
       "</style>\n",
       "<table border=\"1\" class=\"dataframe\">\n",
       "  <thead>\n",
       "    <tr style=\"text-align: right;\">\n",
       "      <th></th>\n",
       "      <th>Date</th>\n",
       "      <th>GameID</th>\n",
       "      <th>Drive</th>\n",
       "      <th>qtr</th>\n",
       "      <th>down</th>\n",
       "      <th>time</th>\n",
       "      <th>TimeUnder</th>\n",
       "      <th>TimeSecs</th>\n",
       "      <th>PlayTimeDiff</th>\n",
       "      <th>SideofField</th>\n",
       "      <th>...</th>\n",
       "      <th>yacEPA</th>\n",
       "      <th>Home_WP_pre</th>\n",
       "      <th>Away_WP_pre</th>\n",
       "      <th>Home_WP_post</th>\n",
       "      <th>Away_WP_post</th>\n",
       "      <th>Win_Prob</th>\n",
       "      <th>WPA</th>\n",
       "      <th>airWPA</th>\n",
       "      <th>yacWPA</th>\n",
       "      <th>Season</th>\n",
       "    </tr>\n",
       "  </thead>\n",
       "  <tbody>\n",
       "    <tr>\n",
       "      <th>244485</th>\n",
       "      <td>2014-10-26</td>\n",
       "      <td>2014102607</td>\n",
       "      <td>18</td>\n",
       "      <td>3</td>\n",
       "      <td>1.0</td>\n",
       "      <td>00:39</td>\n",
       "      <td>1</td>\n",
       "      <td>939.0</td>\n",
       "      <td>12.0</td>\n",
       "      <td>TB</td>\n",
       "      <td>...</td>\n",
       "      <td>1.240299</td>\n",
       "      <td>0.225647</td>\n",
       "      <td>0.774353</td>\n",
       "      <td>0.245582</td>\n",
       "      <td>0.754418</td>\n",
       "      <td>0.225647</td>\n",
       "      <td>0.019935</td>\n",
       "      <td>-0.018156</td>\n",
       "      <td>0.038091</td>\n",
       "      <td>2014</td>\n",
       "    </tr>\n",
       "    <tr>\n",
       "      <th>115340</th>\n",
       "      <td>2011-11-20</td>\n",
       "      <td>2011112000</td>\n",
       "      <td>22</td>\n",
       "      <td>4</td>\n",
       "      <td>1.0</td>\n",
       "      <td>06:47</td>\n",
       "      <td>7</td>\n",
       "      <td>407.0</td>\n",
       "      <td>44.0</td>\n",
       "      <td>OAK</td>\n",
       "      <td>...</td>\n",
       "      <td>NaN</td>\n",
       "      <td>0.056036</td>\n",
       "      <td>0.943964</td>\n",
       "      <td>0.042963</td>\n",
       "      <td>0.957037</td>\n",
       "      <td>0.943964</td>\n",
       "      <td>0.013073</td>\n",
       "      <td>NaN</td>\n",
       "      <td>NaN</td>\n",
       "      <td>2011</td>\n",
       "    </tr>\n",
       "    <tr>\n",
       "      <th>68357</th>\n",
       "      <td>2010-11-14</td>\n",
       "      <td>2010111401</td>\n",
       "      <td>8</td>\n",
       "      <td>2</td>\n",
       "      <td>NaN</td>\n",
       "      <td>00:23</td>\n",
       "      <td>1</td>\n",
       "      <td>1823.0</td>\n",
       "      <td>0.0</td>\n",
       "      <td>CLE</td>\n",
       "      <td>...</td>\n",
       "      <td>NaN</td>\n",
       "      <td>0.365307</td>\n",
       "      <td>0.634693</td>\n",
       "      <td>0.384697</td>\n",
       "      <td>0.615303</td>\n",
       "      <td>0.634693</td>\n",
       "      <td>-0.019390</td>\n",
       "      <td>NaN</td>\n",
       "      <td>NaN</td>\n",
       "      <td>2010</td>\n",
       "    </tr>\n",
       "    <tr>\n",
       "      <th>368377</th>\n",
       "      <td>2017-09-24</td>\n",
       "      <td>2017092405</td>\n",
       "      <td>24</td>\n",
       "      <td>4</td>\n",
       "      <td>1.0</td>\n",
       "      <td>08:48</td>\n",
       "      <td>9</td>\n",
       "      <td>528.0</td>\n",
       "      <td>8.0</td>\n",
       "      <td>CLE</td>\n",
       "      <td>...</td>\n",
       "      <td>1.075660</td>\n",
       "      <td>0.935995</td>\n",
       "      <td>0.064005</td>\n",
       "      <td>0.921231</td>\n",
       "      <td>0.078769</td>\n",
       "      <td>0.064005</td>\n",
       "      <td>0.014764</td>\n",
       "      <td>0.003866</td>\n",
       "      <td>0.010899</td>\n",
       "      <td>2017</td>\n",
       "    </tr>\n",
       "    <tr>\n",
       "      <th>384684</th>\n",
       "      <td>2017-11-05</td>\n",
       "      <td>2017110505</td>\n",
       "      <td>11</td>\n",
       "      <td>2</td>\n",
       "      <td>1.0</td>\n",
       "      <td>09:15</td>\n",
       "      <td>10</td>\n",
       "      <td>2355.0</td>\n",
       "      <td>0.0</td>\n",
       "      <td>DEN</td>\n",
       "      <td>...</td>\n",
       "      <td>NaN</td>\n",
       "      <td>0.928474</td>\n",
       "      <td>0.071526</td>\n",
       "      <td>0.934641</td>\n",
       "      <td>0.065359</td>\n",
       "      <td>0.071526</td>\n",
       "      <td>-0.006166</td>\n",
       "      <td>NaN</td>\n",
       "      <td>NaN</td>\n",
       "      <td>2017</td>\n",
       "    </tr>\n",
       "  </tbody>\n",
       "</table>\n",
       "<p>5 rows × 102 columns</p>\n",
       "</div>"
      ],
      "text/plain": [
       "              Date      GameID  Drive  qtr  down   time  TimeUnder  TimeSecs  \\\n",
       "244485  2014-10-26  2014102607     18    3   1.0  00:39          1     939.0   \n",
       "115340  2011-11-20  2011112000     22    4   1.0  06:47          7     407.0   \n",
       "68357   2010-11-14  2010111401      8    2   NaN  00:23          1    1823.0   \n",
       "368377  2017-09-24  2017092405     24    4   1.0  08:48          9     528.0   \n",
       "384684  2017-11-05  2017110505     11    2   1.0  09:15         10    2355.0   \n",
       "\n",
       "        PlayTimeDiff SideofField  ...    yacEPA  Home_WP_pre  Away_WP_pre  \\\n",
       "244485          12.0          TB  ...  1.240299     0.225647     0.774353   \n",
       "115340          44.0         OAK  ...       NaN     0.056036     0.943964   \n",
       "68357            0.0         CLE  ...       NaN     0.365307     0.634693   \n",
       "368377           8.0         CLE  ...  1.075660     0.935995     0.064005   \n",
       "384684           0.0         DEN  ...       NaN     0.928474     0.071526   \n",
       "\n",
       "        Home_WP_post  Away_WP_post  Win_Prob       WPA    airWPA    yacWPA  \\\n",
       "244485      0.245582      0.754418  0.225647  0.019935 -0.018156  0.038091   \n",
       "115340      0.042963      0.957037  0.943964  0.013073       NaN       NaN   \n",
       "68357       0.384697      0.615303  0.634693 -0.019390       NaN       NaN   \n",
       "368377      0.921231      0.078769  0.064005  0.014764  0.003866  0.010899   \n",
       "384684      0.934641      0.065359  0.071526 -0.006166       NaN       NaN   \n",
       "\n",
       "        Season  \n",
       "244485    2014  \n",
       "115340    2011  \n",
       "68357     2010  \n",
       "368377    2017  \n",
       "384684    2017  \n",
       "\n",
       "[5 rows x 102 columns]"
      ]
     },
     "execution_count": 13,
     "metadata": {},
     "output_type": "execute_result"
    }
   ],
   "source": [
    "# look at a few rows of the nfl_data file. I can see a handful of missing data already!\n",
    "nfl_data.sample(5)"
   ]
  },
  {
   "cell_type": "markdown",
   "metadata": {
    "_cell_guid": "604ac3a4-b1d9-4264-b312-4bbeecdeec00",
    "_uuid": "03ce3b4afe87d98f777172c2c7be066a66a0b237"
   },
   "source": [
    "Yep, it looks like there's some missing values. What about in the sf_permits dataset?"
   ]
  },
  {
   "cell_type": "code",
   "execution_count": 14,
   "metadata": {
    "_cell_guid": "8dca377c-95be-40ec-87dc-61a8fca750e2",
    "_uuid": "e389495bb2e5d27ab632d5f3648ca1f912c94706",
    "collapsed": true,
    "jupyter": {
     "outputs_hidden": true
    },
    "trusted": false
   },
   "outputs": [
    {
     "data": {
      "application/vnd.microsoft.datawrangler.viewer.v0+json": {
       "columns": [
        {
         "name": "index",
         "rawType": "int64",
         "type": "integer"
        },
        {
         "name": "Permit Number",
         "rawType": "object",
         "type": "string"
        },
        {
         "name": "Permit Type",
         "rawType": "int64",
         "type": "integer"
        },
        {
         "name": "Permit Type Definition",
         "rawType": "object",
         "type": "string"
        },
        {
         "name": "Permit Creation Date",
         "rawType": "object",
         "type": "string"
        },
        {
         "name": "Block",
         "rawType": "object",
         "type": "string"
        },
        {
         "name": "Lot",
         "rawType": "object",
         "type": "string"
        },
        {
         "name": "Street Number",
         "rawType": "int64",
         "type": "integer"
        },
        {
         "name": "Street Number Suffix",
         "rawType": "object",
         "type": "unknown"
        },
        {
         "name": "Street Name",
         "rawType": "object",
         "type": "string"
        },
        {
         "name": "Street Suffix",
         "rawType": "object",
         "type": "string"
        },
        {
         "name": "Unit",
         "rawType": "float64",
         "type": "float"
        },
        {
         "name": "Unit Suffix",
         "rawType": "object",
         "type": "unknown"
        },
        {
         "name": "Description",
         "rawType": "object",
         "type": "string"
        },
        {
         "name": "Current Status",
         "rawType": "object",
         "type": "string"
        },
        {
         "name": "Current Status Date",
         "rawType": "object",
         "type": "string"
        },
        {
         "name": "Filed Date",
         "rawType": "object",
         "type": "string"
        },
        {
         "name": "Issued Date",
         "rawType": "object",
         "type": "string"
        },
        {
         "name": "Completed Date",
         "rawType": "object",
         "type": "unknown"
        },
        {
         "name": "First Construction Document Date",
         "rawType": "object",
         "type": "string"
        },
        {
         "name": "Structural Notification",
         "rawType": "object",
         "type": "unknown"
        },
        {
         "name": "Number of Existing Stories",
         "rawType": "float64",
         "type": "float"
        },
        {
         "name": "Number of Proposed Stories",
         "rawType": "float64",
         "type": "float"
        },
        {
         "name": "Voluntary Soft-Story Retrofit",
         "rawType": "object",
         "type": "unknown"
        },
        {
         "name": "Fire Only Permit",
         "rawType": "object",
         "type": "unknown"
        },
        {
         "name": "Permit Expiration Date",
         "rawType": "object",
         "type": "unknown"
        },
        {
         "name": "Estimated Cost",
         "rawType": "float64",
         "type": "float"
        },
        {
         "name": "Revised Cost",
         "rawType": "float64",
         "type": "float"
        },
        {
         "name": "Existing Use",
         "rawType": "object",
         "type": "unknown"
        },
        {
         "name": "Existing Units",
         "rawType": "float64",
         "type": "float"
        },
        {
         "name": "Proposed Use",
         "rawType": "object",
         "type": "unknown"
        },
        {
         "name": "Proposed Units",
         "rawType": "float64",
         "type": "float"
        },
        {
         "name": "Plansets",
         "rawType": "float64",
         "type": "float"
        },
        {
         "name": "TIDF Compliance",
         "rawType": "object",
         "type": "unknown"
        },
        {
         "name": "Existing Construction Type",
         "rawType": "float64",
         "type": "float"
        },
        {
         "name": "Existing Construction Type Description",
         "rawType": "object",
         "type": "unknown"
        },
        {
         "name": "Proposed Construction Type",
         "rawType": "float64",
         "type": "float"
        },
        {
         "name": "Proposed Construction Type Description",
         "rawType": "object",
         "type": "unknown"
        },
        {
         "name": "Site Permit",
         "rawType": "object",
         "type": "unknown"
        },
        {
         "name": "Supervisor District",
         "rawType": "float64",
         "type": "float"
        },
        {
         "name": "Neighborhoods - Analysis Boundaries",
         "rawType": "object",
         "type": "string"
        },
        {
         "name": "Zipcode",
         "rawType": "float64",
         "type": "float"
        },
        {
         "name": "Location",
         "rawType": "object",
         "type": "string"
        },
        {
         "name": "Record ID",
         "rawType": "int64",
         "type": "integer"
        }
       ],
       "conversionMethod": "pd.DataFrame",
       "ref": "ed05af67-b5c8-4e7f-9833-266b390dce5e",
       "rows": [
        [
         "78651",
         "201503120624",
         "8",
         "otc alterations permit",
         "03/12/2015",
         "4273",
         "029",
         "2986",
         null,
         "26th",
         "St",
         null,
         null,
         "replace 12 windows with fiberglass windows - same glazing and frame design",
         "complete",
         "05/11/2015",
         "03/12/2015",
         "03/12/2015",
         "05/11/2015",
         "03/12/2015",
         null,
         "3.0",
         "3.0",
         null,
         null,
         "03/06/2016",
         "12000.0",
         "12000.0",
         "2 family dwelling",
         "2.0",
         "2 family dwelling",
         "2.0",
         "0.0",
         null,
         "5.0",
         "wood frame (5)",
         "5.0",
         "wood frame (5)",
         null,
         "9.0",
         "Mission",
         "94110.0",
         "(37.74972976527956, -122.40963202424835)",
         "1374057173006"
        ],
        [
         "177779",
         "201707071220",
         "8",
         "otc alterations permit",
         "07/07/2017",
         "0453",
         "004A",
         "950",
         null,
         "Bay",
         "St",
         "0.0",
         null,
         "to comply with nov 201641909soft story retrofit per sfebc chapter 4d engineering criteria 2016 cebc appendix a-4",
         "issued",
         "12/04/2017",
         "07/07/2017",
         "12/04/2017",
         null,
         "12/04/2017",
         null,
         "4.0",
         "4.0",
         null,
         null,
         "12/04/2018",
         "94000.0",
         "140000.0",
         "apartments",
         "18.0",
         "apartments",
         "18.0",
         "2.0",
         null,
         "5.0",
         "wood frame (5)",
         "5.0",
         "wood frame (5)",
         null,
         "2.0",
         "Russian Hill",
         "94109.0",
         "(37.80472551510833, -122.42280760820965)",
         "1469546420378"
        ],
        [
         "64978",
         "M529127",
         "8",
         "otc alterations permit",
         "10/21/2014",
         "0478",
         "011",
         "1290",
         null,
         "Chestnut",
         "St",
         null,
         null,
         "street space",
         "issued",
         "10/21/2014",
         "10/21/2014",
         "10/21/2014",
         null,
         "10/21/2014",
         null,
         null,
         null,
         null,
         null,
         null,
         null,
         "1.0",
         null,
         null,
         null,
         null,
         null,
         null,
         null,
         null,
         null,
         null,
         null,
         "2.0",
         "Russian Hill",
         "94109.0",
         "(37.80244997614665, -122.42443255018165)",
         "1359656465959"
        ],
        [
         "165958",
         "201704073507",
         "8",
         "otc alterations permit",
         "04/07/2017",
         "6507",
         "003A",
         "1134",
         null,
         "Noe",
         "St",
         null,
         null,
         "remodel kitchen, new cabients, power, counters. remodel bath - shower, new tile, toilet, sink. bolt exisitng foundationwith 7/8 all tgread & epoxy every 32\"m add sine a30 clips at post in basement. repair some dryrot.",
         "complete",
         "08/01/2017",
         "04/07/2017",
         "04/07/2017",
         "08/01/2017",
         "04/07/2017",
         null,
         "3.0",
         "3.0",
         null,
         null,
         "04/02/2018",
         "32000.0",
         "35000.0",
         "2 family dwelling",
         "2.0",
         "2 family dwelling",
         "2.0",
         "0.0",
         null,
         "5.0",
         "wood frame (5)",
         "5.0",
         "wood frame (5)",
         null,
         "8.0",
         "Noe Valley",
         "94114.0",
         "(37.750866393629146, -122.43209633372915)",
         "1458922436280"
        ],
        [
         "147902",
         "201701237639",
         "8",
         "otc alterations permit",
         "01/23/2017",
         "0623",
         "001",
         "1755",
         null,
         "Van Ness",
         "Av",
         null,
         null,
         "unit 502: kitchen remodel in-kind, bathroom remodel in-kind, no changes to wall locations.",
         "issued",
         "01/23/2017",
         "01/23/2017",
         "01/23/2017",
         null,
         "01/23/2017",
         null,
         "6.0",
         "6.0",
         null,
         null,
         "01/18/2018",
         "20000.0",
         "25000.0",
         "apartments",
         "48.0",
         "apartments",
         "48.0",
         "0.0",
         null,
         "5.0",
         "wood frame (5)",
         "5.0",
         "wood frame (5)",
         null,
         "2.0",
         "Pacific Heights",
         "94109.0",
         "(37.791925784456105, -122.42306858292103)",
         "1450933235988"
        ]
       ],
       "shape": {
        "columns": 43,
        "rows": 5
       }
      },
      "text/html": [
       "<div>\n",
       "<style scoped>\n",
       "    .dataframe tbody tr th:only-of-type {\n",
       "        vertical-align: middle;\n",
       "    }\n",
       "\n",
       "    .dataframe tbody tr th {\n",
       "        vertical-align: top;\n",
       "    }\n",
       "\n",
       "    .dataframe thead th {\n",
       "        text-align: right;\n",
       "    }\n",
       "</style>\n",
       "<table border=\"1\" class=\"dataframe\">\n",
       "  <thead>\n",
       "    <tr style=\"text-align: right;\">\n",
       "      <th></th>\n",
       "      <th>Permit Number</th>\n",
       "      <th>Permit Type</th>\n",
       "      <th>Permit Type Definition</th>\n",
       "      <th>Permit Creation Date</th>\n",
       "      <th>Block</th>\n",
       "      <th>Lot</th>\n",
       "      <th>Street Number</th>\n",
       "      <th>Street Number Suffix</th>\n",
       "      <th>Street Name</th>\n",
       "      <th>Street Suffix</th>\n",
       "      <th>...</th>\n",
       "      <th>Existing Construction Type</th>\n",
       "      <th>Existing Construction Type Description</th>\n",
       "      <th>Proposed Construction Type</th>\n",
       "      <th>Proposed Construction Type Description</th>\n",
       "      <th>Site Permit</th>\n",
       "      <th>Supervisor District</th>\n",
       "      <th>Neighborhoods - Analysis Boundaries</th>\n",
       "      <th>Zipcode</th>\n",
       "      <th>Location</th>\n",
       "      <th>Record ID</th>\n",
       "    </tr>\n",
       "  </thead>\n",
       "  <tbody>\n",
       "    <tr>\n",
       "      <th>78651</th>\n",
       "      <td>201503120624</td>\n",
       "      <td>8</td>\n",
       "      <td>otc alterations permit</td>\n",
       "      <td>03/12/2015</td>\n",
       "      <td>4273</td>\n",
       "      <td>029</td>\n",
       "      <td>2986</td>\n",
       "      <td>NaN</td>\n",
       "      <td>26th</td>\n",
       "      <td>St</td>\n",
       "      <td>...</td>\n",
       "      <td>5.0</td>\n",
       "      <td>wood frame (5)</td>\n",
       "      <td>5.0</td>\n",
       "      <td>wood frame (5)</td>\n",
       "      <td>NaN</td>\n",
       "      <td>9.0</td>\n",
       "      <td>Mission</td>\n",
       "      <td>94110.0</td>\n",
       "      <td>(37.74972976527956, -122.40963202424835)</td>\n",
       "      <td>1374057173006</td>\n",
       "    </tr>\n",
       "    <tr>\n",
       "      <th>177779</th>\n",
       "      <td>201707071220</td>\n",
       "      <td>8</td>\n",
       "      <td>otc alterations permit</td>\n",
       "      <td>07/07/2017</td>\n",
       "      <td>0453</td>\n",
       "      <td>004A</td>\n",
       "      <td>950</td>\n",
       "      <td>NaN</td>\n",
       "      <td>Bay</td>\n",
       "      <td>St</td>\n",
       "      <td>...</td>\n",
       "      <td>5.0</td>\n",
       "      <td>wood frame (5)</td>\n",
       "      <td>5.0</td>\n",
       "      <td>wood frame (5)</td>\n",
       "      <td>NaN</td>\n",
       "      <td>2.0</td>\n",
       "      <td>Russian Hill</td>\n",
       "      <td>94109.0</td>\n",
       "      <td>(37.80472551510833, -122.42280760820965)</td>\n",
       "      <td>1469546420378</td>\n",
       "    </tr>\n",
       "    <tr>\n",
       "      <th>64978</th>\n",
       "      <td>M529127</td>\n",
       "      <td>8</td>\n",
       "      <td>otc alterations permit</td>\n",
       "      <td>10/21/2014</td>\n",
       "      <td>0478</td>\n",
       "      <td>011</td>\n",
       "      <td>1290</td>\n",
       "      <td>NaN</td>\n",
       "      <td>Chestnut</td>\n",
       "      <td>St</td>\n",
       "      <td>...</td>\n",
       "      <td>NaN</td>\n",
       "      <td>NaN</td>\n",
       "      <td>NaN</td>\n",
       "      <td>NaN</td>\n",
       "      <td>NaN</td>\n",
       "      <td>2.0</td>\n",
       "      <td>Russian Hill</td>\n",
       "      <td>94109.0</td>\n",
       "      <td>(37.80244997614665, -122.42443255018165)</td>\n",
       "      <td>1359656465959</td>\n",
       "    </tr>\n",
       "    <tr>\n",
       "      <th>165958</th>\n",
       "      <td>201704073507</td>\n",
       "      <td>8</td>\n",
       "      <td>otc alterations permit</td>\n",
       "      <td>04/07/2017</td>\n",
       "      <td>6507</td>\n",
       "      <td>003A</td>\n",
       "      <td>1134</td>\n",
       "      <td>NaN</td>\n",
       "      <td>Noe</td>\n",
       "      <td>St</td>\n",
       "      <td>...</td>\n",
       "      <td>5.0</td>\n",
       "      <td>wood frame (5)</td>\n",
       "      <td>5.0</td>\n",
       "      <td>wood frame (5)</td>\n",
       "      <td>NaN</td>\n",
       "      <td>8.0</td>\n",
       "      <td>Noe Valley</td>\n",
       "      <td>94114.0</td>\n",
       "      <td>(37.750866393629146, -122.43209633372915)</td>\n",
       "      <td>1458922436280</td>\n",
       "    </tr>\n",
       "    <tr>\n",
       "      <th>147902</th>\n",
       "      <td>201701237639</td>\n",
       "      <td>8</td>\n",
       "      <td>otc alterations permit</td>\n",
       "      <td>01/23/2017</td>\n",
       "      <td>0623</td>\n",
       "      <td>001</td>\n",
       "      <td>1755</td>\n",
       "      <td>NaN</td>\n",
       "      <td>Van Ness</td>\n",
       "      <td>Av</td>\n",
       "      <td>...</td>\n",
       "      <td>5.0</td>\n",
       "      <td>wood frame (5)</td>\n",
       "      <td>5.0</td>\n",
       "      <td>wood frame (5)</td>\n",
       "      <td>NaN</td>\n",
       "      <td>2.0</td>\n",
       "      <td>Pacific Heights</td>\n",
       "      <td>94109.0</td>\n",
       "      <td>(37.791925784456105, -122.42306858292103)</td>\n",
       "      <td>1450933235988</td>\n",
       "    </tr>\n",
       "  </tbody>\n",
       "</table>\n",
       "<p>5 rows × 43 columns</p>\n",
       "</div>"
      ],
      "text/plain": [
       "       Permit Number  Permit Type  Permit Type Definition  \\\n",
       "78651   201503120624            8  otc alterations permit   \n",
       "177779  201707071220            8  otc alterations permit   \n",
       "64978        M529127            8  otc alterations permit   \n",
       "165958  201704073507            8  otc alterations permit   \n",
       "147902  201701237639            8  otc alterations permit   \n",
       "\n",
       "       Permit Creation Date Block   Lot  Street Number Street Number Suffix  \\\n",
       "78651            03/12/2015  4273   029           2986                  NaN   \n",
       "177779           07/07/2017  0453  004A            950                  NaN   \n",
       "64978            10/21/2014  0478   011           1290                  NaN   \n",
       "165958           04/07/2017  6507  003A           1134                  NaN   \n",
       "147902           01/23/2017  0623   001           1755                  NaN   \n",
       "\n",
       "       Street Name Street Suffix  ...  Existing Construction Type  \\\n",
       "78651         26th            St  ...                         5.0   \n",
       "177779         Bay            St  ...                         5.0   \n",
       "64978     Chestnut            St  ...                         NaN   \n",
       "165958         Noe            St  ...                         5.0   \n",
       "147902    Van Ness            Av  ...                         5.0   \n",
       "\n",
       "       Existing Construction Type Description Proposed Construction Type  \\\n",
       "78651                          wood frame (5)                        5.0   \n",
       "177779                         wood frame (5)                        5.0   \n",
       "64978                                     NaN                        NaN   \n",
       "165958                         wood frame (5)                        5.0   \n",
       "147902                         wood frame (5)                        5.0   \n",
       "\n",
       "       Proposed Construction Type Description Site Permit Supervisor District  \\\n",
       "78651                          wood frame (5)         NaN                 9.0   \n",
       "177779                         wood frame (5)         NaN                 2.0   \n",
       "64978                                     NaN         NaN                 2.0   \n",
       "165958                         wood frame (5)         NaN                 8.0   \n",
       "147902                         wood frame (5)         NaN                 2.0   \n",
       "\n",
       "       Neighborhoods - Analysis Boundaries  Zipcode  \\\n",
       "78651                              Mission  94110.0   \n",
       "177779                        Russian Hill  94109.0   \n",
       "64978                         Russian Hill  94109.0   \n",
       "165958                          Noe Valley  94114.0   \n",
       "147902                     Pacific Heights  94109.0   \n",
       "\n",
       "                                         Location      Record ID  \n",
       "78651    (37.74972976527956, -122.40963202424835)  1374057173006  \n",
       "177779   (37.80472551510833, -122.42280760820965)  1469546420378  \n",
       "64978    (37.80244997614665, -122.42443255018165)  1359656465959  \n",
       "165958  (37.750866393629146, -122.43209633372915)  1458922436280  \n",
       "147902  (37.791925784456105, -122.42306858292103)  1450933235988  \n",
       "\n",
       "[5 rows x 43 columns]"
      ]
     },
     "execution_count": 14,
     "metadata": {},
     "output_type": "execute_result"
    }
   ],
   "source": [
    "# your turn! Look at a couple of rows from the sf_permits dataset. Do you notice any missing data?\n",
    "sf_permits.sample(5)\n",
    "\n",
    "# your code goes here :)"
   ]
  },
  {
   "cell_type": "markdown",
   "metadata": {
    "_cell_guid": "33656c2b-a74e-4b76-9af2-d7ecd518577b",
    "_uuid": "400b025f618cc76a39fec2537193f28ba1e49168"
   },
   "source": [
    "# See how many missing data points we have\n",
    "___\n",
    "\n",
    "Ok, now we know that we do have some missing values. Let's see how many we have in each column. "
   ]
  },
  {
   "cell_type": "code",
   "execution_count": 15,
   "metadata": {
    "_cell_guid": "a69ac02d-197b-487b-a38f-2f853d208eed",
    "_uuid": "6dc0e32180c4a3bba003e7886faf126d93affadf",
    "collapsed": true,
    "jupyter": {
     "outputs_hidden": true
    },
    "trusted": false
   },
   "outputs": [
    {
     "data": {
      "text/plain": [
       "Date                0\n",
       "GameID              0\n",
       "Drive               0\n",
       "qtr                 0\n",
       "down            61154\n",
       "time              224\n",
       "TimeUnder           0\n",
       "TimeSecs          224\n",
       "PlayTimeDiff      444\n",
       "SideofField       528\n",
       "dtype: int64"
      ]
     },
     "execution_count": 15,
     "metadata": {},
     "output_type": "execute_result"
    }
   ],
   "source": [
    "# get the number of missing data points per column\n",
    "missing_values_count = nfl_data.isnull().sum()\n",
    "\n",
    "# look at the # of missing points in the first ten columns\n",
    "missing_values_count[0:10]"
   ]
  },
  {
   "cell_type": "markdown",
   "metadata": {
    "_cell_guid": "84455c7e-6c63-4e08-a7b4-7520a61072f9",
    "_uuid": "054ba8782a7b0555336eddb90c985fb638beac4d"
   },
   "source": [
    "That seems like a lot! It might be helpful to see what percentage of the values in our dataset were missing to give us a better sense of the scale of this problem:"
   ]
  },
  {
   "cell_type": "code",
   "execution_count": null,
   "metadata": {
    "_cell_guid": "fb77dd56-192e-48be-8181-2082985dd5a2",
    "_uuid": "d6e65ba197893f29d9dce0b0cd1c75017b60db09",
    "collapsed": true,
    "jupyter": {
     "outputs_hidden": true
    },
    "trusted": false
   },
   "outputs": [
    {
     "data": {
      "text/plain": [
       "np.float64(27.66722370547874)"
      ]
     },
     "execution_count": 17,
     "metadata": {},
     "output_type": "execute_result"
    }
   ],
   "source": [
    "# how many total missing values do we have?\n",
    "total_cells = np.prod(nfl_data.shape)\n",
    "total_missing = missing_values_count.sum()\n",
    "\n",
    "# percent of data that is missing\n",
    "(total_missing/total_cells) * 100"
   ]
  },
  {
   "cell_type": "markdown",
   "metadata": {
    "_cell_guid": "31daa324-9215-4930-985c-01dee717b6b8",
    "_uuid": "3331fa42efa16f3db2e8e196411f351c5f8309f5"
   },
   "source": [
    "Wow, almost a quarter of the cells in this dataset are empty! In the next step, we're going to take a closer look at some of the columns with missing values and try to figure out what might be going on with them."
   ]
  },
  {
   "cell_type": "code",
   "execution_count": 18,
   "metadata": {
    "_cell_guid": "f20a9474-41ee-4ecd-a2f4-1ab147fc8655",
    "_uuid": "64487760aa1afaaa8b8a4d1f95206773759db101",
    "collapsed": true,
    "jupyter": {
     "outputs_hidden": true
    },
    "trusted": false
   },
   "outputs": [
    {
     "data": {
      "text/plain": [
       "np.float64(26.26002315058403)"
      ]
     },
     "execution_count": 18,
     "metadata": {},
     "output_type": "execute_result"
    }
   ],
   "source": [
    "# your turn! Find out what percent of the sf_permits dataset is missing\n",
    "missing_sf_permits_count =sf_permits.isnull().sum()\n",
    "\n",
    "# get the number of missing data points per column\n",
    "total_sf_cells = np.prod(sf_permits.shape)\n",
    "total_sf_missing = missing_sf_permits_count.sum()\n",
    "\n",
    "(total_sf_missing/total_sf_cells) * 100\n"
   ]
  },
  {
   "cell_type": "markdown",
   "metadata": {
    "_cell_guid": "62b9f021-5b80-43e2-bf60-8e0d5e22d572",
    "_uuid": "032a618abb98a28e60ab84376cf21402178f995d"
   },
   "source": [
    "# Figure out why the data is missing\n",
    "____\n",
    " \n",
    "This is the point at which we get into the part of data science that I like to call \"data intution\", by which I mean \"really looking at your data and trying to figure out why it is the way it is and how that will affect your analysis\". It can be a frustrating part of data science, especially if you're newer to the field and don't have a lot of experience. For dealing with missing values, you'll need to use your intution to figure out why the value is missing. One of the most important question you can ask yourself to help figure this out is this:\n",
    "\n",
    "> **Is this value missing becuase it wasn't recorded or becuase it dosen't exist?**\n",
    "\n",
    "If a value is missing becuase it doens't exist (like the height of the oldest child of someone who doesn't have any children) then it doesn't make sense to try and guess what it might be. These values you probably do want to keep as NaN. On the other hand, if a value is missing becuase it wasn't recorded, then you can try to guess what it might have been based on the other values in that column and row. (This is called \"imputation\" and we'll learn how to do it next! :)\n",
    "\n",
    "Let's work through an example. Looking at the number of missing values in the nfl_data dataframe, I notice that the column `TimesSec` has a lot of missing values in it: "
   ]
  },
  {
   "cell_type": "code",
   "execution_count": 19,
   "metadata": {
    "_cell_guid": "77739e82-8d32-4374-84bf-a924b6065168",
    "_uuid": "b65aea6046964806e44422c057bce8bd7f8e59d5",
    "collapsed": true,
    "jupyter": {
     "outputs_hidden": true
    },
    "trusted": false
   },
   "outputs": [
    {
     "data": {
      "text/plain": [
       "Date                0\n",
       "GameID              0\n",
       "Drive               0\n",
       "qtr                 0\n",
       "down            61154\n",
       "time              224\n",
       "TimeUnder           0\n",
       "TimeSecs          224\n",
       "PlayTimeDiff      444\n",
       "SideofField       528\n",
       "dtype: int64"
      ]
     },
     "execution_count": 19,
     "metadata": {},
     "output_type": "execute_result"
    }
   ],
   "source": [
    "# look at the # of missing points in the first ten columns\n",
    "missing_values_count[0:10]"
   ]
  },
  {
   "cell_type": "markdown",
   "metadata": {
    "_cell_guid": "1b17f4c9-dcab-4857-82f9-a2534e804c91",
    "_uuid": "5cff158285ab37a89b80dcc35d5c690cdb42d3a4"
   },
   "source": [
    "By looking at [the documentation](https://www.kaggle.com/maxhorowitz/nflplaybyplay2009to2016), I can see that this column has information on the number of seconds left in the game when the play was made. This means that these values are probably missing because they were not recorded, rather than because they don't exist. So, it would make sense for us to try and guess what they should be rather than just leaving them as NA's.\n",
    "\n",
    "On the other hand, there are other fields, like `PenalizedTeam` that also have lot of missing fields. In this case, though, the field is missing because if there was no penalty then it doesn't make sense to say *which* team was penalized. For this column, it would make more sense to either leave it empty or to add a third value like \"neither\" and use that to replace the NA's.\n",
    "\n",
    "> **Tip:** This is a great place to read over the dataset documentation if you haven't already! If you're working with a dataset that you've gotten from another person, you can also try reaching out to them to get more information.\n",
    "\n",
    "If you're doing very careful data analysis, this is the point at which you'd look at each column individually to figure out the best strategy for filling those missing values. For the rest of this notebook, we'll cover some \"quick and dirty\" techniques that can help you with missing values but will probably also end up removing some useful information or adding some noise to your data.\n",
    "\n",
    "## Your turn!\n",
    "\n",
    "* Look at the columns `Street Number Suffix` and `Zipcode` from the `sf_permits` datasets. Both of these contain missing values. Which, if either, of these are missing because they don't exist? Which, if either, are missing because they weren't recorded?"
   ]
  },
  {
   "cell_type": "code",
   "execution_count": 36,
   "metadata": {},
   "outputs": [
    {
     "data": {
      "application/vnd.microsoft.datawrangler.viewer.v0+json": {
       "columns": [
        {
         "name": "index",
         "rawType": "int64",
         "type": "integer"
        },
        {
         "name": "Permit Number",
         "rawType": "object",
         "type": "string"
        },
        {
         "name": "Permit Type",
         "rawType": "int64",
         "type": "integer"
        },
        {
         "name": "Permit Type Definition",
         "rawType": "object",
         "type": "string"
        },
        {
         "name": "Permit Creation Date",
         "rawType": "object",
         "type": "string"
        },
        {
         "name": "Block",
         "rawType": "object",
         "type": "string"
        },
        {
         "name": "Lot",
         "rawType": "object",
         "type": "string"
        },
        {
         "name": "Street Number",
         "rawType": "int64",
         "type": "integer"
        },
        {
         "name": "Street Number Suffix",
         "rawType": "object",
         "type": "unknown"
        },
        {
         "name": "Street Name",
         "rawType": "object",
         "type": "string"
        },
        {
         "name": "Street Suffix",
         "rawType": "object",
         "type": "string"
        },
        {
         "name": "Unit",
         "rawType": "float64",
         "type": "float"
        },
        {
         "name": "Unit Suffix",
         "rawType": "object",
         "type": "unknown"
        },
        {
         "name": "Description",
         "rawType": "object",
         "type": "string"
        },
        {
         "name": "Current Status",
         "rawType": "object",
         "type": "string"
        },
        {
         "name": "Current Status Date",
         "rawType": "object",
         "type": "string"
        },
        {
         "name": "Filed Date",
         "rawType": "object",
         "type": "string"
        },
        {
         "name": "Issued Date",
         "rawType": "object",
         "type": "string"
        },
        {
         "name": "Completed Date",
         "rawType": "object",
         "type": "unknown"
        },
        {
         "name": "First Construction Document Date",
         "rawType": "object",
         "type": "string"
        },
        {
         "name": "Structural Notification",
         "rawType": "object",
         "type": "unknown"
        },
        {
         "name": "Number of Existing Stories",
         "rawType": "float64",
         "type": "float"
        },
        {
         "name": "Number of Proposed Stories",
         "rawType": "float64",
         "type": "float"
        },
        {
         "name": "Voluntary Soft-Story Retrofit",
         "rawType": "object",
         "type": "unknown"
        },
        {
         "name": "Fire Only Permit",
         "rawType": "object",
         "type": "unknown"
        },
        {
         "name": "Permit Expiration Date",
         "rawType": "object",
         "type": "unknown"
        },
        {
         "name": "Estimated Cost",
         "rawType": "float64",
         "type": "float"
        },
        {
         "name": "Revised Cost",
         "rawType": "float64",
         "type": "float"
        },
        {
         "name": "Existing Use",
         "rawType": "object",
         "type": "unknown"
        },
        {
         "name": "Existing Units",
         "rawType": "float64",
         "type": "float"
        },
        {
         "name": "Proposed Use",
         "rawType": "object",
         "type": "unknown"
        },
        {
         "name": "Proposed Units",
         "rawType": "float64",
         "type": "float"
        },
        {
         "name": "Plansets",
         "rawType": "float64",
         "type": "float"
        },
        {
         "name": "TIDF Compliance",
         "rawType": "object",
         "type": "unknown"
        },
        {
         "name": "Existing Construction Type",
         "rawType": "float64",
         "type": "float"
        },
        {
         "name": "Existing Construction Type Description",
         "rawType": "object",
         "type": "unknown"
        },
        {
         "name": "Proposed Construction Type",
         "rawType": "float64",
         "type": "float"
        },
        {
         "name": "Proposed Construction Type Description",
         "rawType": "object",
         "type": "unknown"
        },
        {
         "name": "Site Permit",
         "rawType": "object",
         "type": "unknown"
        },
        {
         "name": "Supervisor District",
         "rawType": "float64",
         "type": "float"
        },
        {
         "name": "Neighborhoods - Analysis Boundaries",
         "rawType": "object",
         "type": "unknown"
        },
        {
         "name": "Zipcode",
         "rawType": "float64",
         "type": "float"
        },
        {
         "name": "Location",
         "rawType": "object",
         "type": "unknown"
        },
        {
         "name": "Record ID",
         "rawType": "int64",
         "type": "integer"
        }
       ],
       "conversionMethod": "pd.DataFrame",
       "ref": "1eb71825-2491-425c-806c-697649c81769",
       "rows": [
        [
         "185641",
         "201710110999",
         "8",
         "otc alterations permit",
         "10/11/2017",
         "0731",
         "003",
         "1510",
         null,
         "Eddy",
         "St",
         null,
         null,
         "apt t2-1106: remove & replace kitchen adn bathroom counters tops, sinks, p-traps to be replaced, exh fan at same location. light shall be h.e. remove and replace (e) switches and outlets. no change on walls or layout.",
         "issued",
         "10/12/2017",
         "10/11/2017",
         "10/12/2017",
         null,
         "10/12/2017",
         null,
         "19.0",
         "19.0",
         null,
         null,
         "10/12/2018",
         "18000.0",
         "30000.0",
         "apartments",
         "191.0",
         "apartments",
         "191.0",
         "0.0",
         null,
         "1.0",
         "constr type 1",
         "1.0",
         "constr type 1",
         null,
         null,
         null,
         null,
         null,
         "1483031363174"
        ],
        [
         "165637",
         "M877787",
         "8",
         "otc alterations permit",
         "01/17/2018",
         "3753",
         "073",
         "260",
         "V",
         "Clara",
         "St",
         null,
         null,
         "street space",
         "issued",
         "01/17/2018",
         "01/17/2018",
         "01/17/2018",
         null,
         "01/17/2018",
         null,
         null,
         null,
         null,
         null,
         null,
         null,
         "1.0",
         null,
         null,
         null,
         null,
         null,
         null,
         null,
         null,
         null,
         null,
         null,
         null,
         null,
         null,
         null,
         "1493882166212"
        ],
        [
         "31298",
         "201311152069",
         "8",
         "otc alterations permit",
         "11/15/2013",
         "9999",
         "999",
         "2407",
         null,
         "Great",
         "Hy",
         null,
         null,
         "renovation of extg restroom including new roof. electrical, plumbing and general ada improvements.",
         "complete",
         "04/17/2015",
         "11/15/2013",
         "04/28/2014",
         "04/17/2015",
         "04/28/2014",
         null,
         "1.0",
         "1.0",
         null,
         null,
         "04/12/2017",
         "363000.0",
         "363000.0",
         "recreation bldg",
         null,
         "recreation bldg",
         null,
         "2.0",
         null,
         "5.0",
         "wood frame (5)",
         "5.0",
         "wood frame (5)",
         null,
         null,
         null,
         null,
         null,
         "1324396476420"
        ],
        [
         "30297",
         "201311061279",
         "3",
         "additions alterations or repairs",
         "11/06/2013",
         "1436",
         "040",
         "343",
         null,
         "Clement",
         "St",
         null,
         null,
         "change of use from (e) limited restaurant to full service restaurant with beer & wine. planning/zoning use permit in progress case #20130849c. attached plans are for referance showing (e) condition. no construction.",
         "complete",
         "12/29/2014",
         "11/06/2013",
         "12/10/2014",
         "12/29/2014",
         "12/10/2014",
         null,
         "2.0",
         "2.0",
         null,
         null,
         "12/05/2015",
         "1.0",
         "1.0",
         "food/beverage hndlng",
         "1.0",
         "food/beverage hndlng",
         "1.0",
         "2.0",
         null,
         "5.0",
         "wood frame (5)",
         "5.0",
         "wood frame (5)",
         null,
         null,
         null,
         null,
         null,
         "1323354374754"
        ],
        [
         "20954",
         "201308083774",
         "8",
         "otc alterations permit",
         "08/08/2013",
         "6491",
         "012",
         "795",
         null,
         "Brunswick",
         "St",
         null,
         null,
         "construct two bedroom, two bathroom, family room & laundry room. all work at ground floor.",
         "issued",
         "08/08/2013",
         "08/08/2013",
         "08/08/2013",
         null,
         "08/08/2013",
         null,
         "2.0",
         "2.0",
         null,
         null,
         "08/03/2014",
         "53000.0",
         "53000.0",
         "1 family dwelling",
         "1.0",
         "1 family dwelling",
         "1.0",
         "2.0",
         null,
         "5.0",
         "wood frame (5)",
         "5.0",
         "wood frame (5)",
         null,
         null,
         null,
         null,
         "(37.70816952820484, -122.4495824817392)",
         "1313529204976"
        ],
        [
         "6976",
         "M378327",
         "8",
         "otc alterations permit",
         "03/15/2013",
         "0271",
         "014",
         "570",
         null,
         "Bush",
         "St",
         null,
         null,
         "street space permit",
         "issued",
         "03/15/2013",
         "03/15/2013",
         "03/15/2013",
         null,
         "03/15/2013",
         null,
         null,
         null,
         null,
         null,
         null,
         null,
         "1.0",
         null,
         null,
         null,
         null,
         null,
         null,
         null,
         null,
         null,
         null,
         null,
         null,
         null,
         null,
         null,
         "129890166227"
        ],
        [
         "82701",
         "201504163873",
         "8",
         "otc alterations permit",
         "04/16/2015",
         "0750",
         "002",
         "1420",
         null,
         "Turk",
         "St",
         null,
         null,
         "unit t3-911- t3-ph2b, t3-809 remove and replace kitchen and bathroom countertops, sinks, p-traps. replace exhaust fan same location. remove and replace lighting. shall be hig eff. replace switches & outlets.  no wall to be removed or modified. to comply with nov #201448302.",
         "complete",
         "05/29/2015",
         "04/16/2015",
         "04/21/2015",
         "05/29/2015",
         "04/21/2015",
         null,
         "15.0",
         "15.0",
         null,
         null,
         "04/15/2016",
         "36000.0",
         "54000.0",
         "apartments",
         "142.0",
         "apartments",
         "142.0",
         "0.0",
         null,
         "1.0",
         "constr type 1",
         "1.0",
         "constr type 1",
         null,
         null,
         null,
         null,
         null,
         "1378378366050"
        ],
        [
         "101198",
         "201510068901",
         "8",
         "otc alterations permit",
         "10/06/2015",
         "0176",
         "100",
         "535",
         null,
         "Pacific",
         "Av",
         null,
         null,
         "4th flr: fire alarm as built record drawing for permit 201508204818.",
         "issued",
         "10/06/2015",
         "10/06/2015",
         "10/06/2015",
         null,
         "10/06/2015",
         null,
         "4.0",
         "4.0",
         null,
         "Y",
         "09/30/2016",
         "1.0",
         "1.0",
         "office",
         "0.0",
         "office",
         "0.0",
         "2.0",
         null,
         "3.0",
         "constr type 3",
         "3.0",
         "constr type 3",
         null,
         null,
         null,
         null,
         null,
         "139821061608"
        ],
        [
         "156628",
         "M709848",
         "8",
         "otc alterations permit",
         "08/01/2016",
         "0911",
         "007",
         "1920",
         null,
         "Jefferson",
         "St",
         null,
         null,
         "street space",
         "issued",
         "05/10/2017",
         "08/01/2016",
         "05/10/2017",
         null,
         "05/10/2017",
         null,
         null,
         null,
         null,
         null,
         null,
         null,
         "1.0",
         null,
         null,
         null,
         null,
         null,
         null,
         null,
         null,
         null,
         null,
         null,
         null,
         null,
         null,
         null,
         "1462617238066"
        ],
        [
         "137002",
         "201609167962",
         "8",
         "otc alterations permit",
         "09/16/2016",
         "3764",
         "070",
         "461",
         null,
         "02nd",
         "St",
         null,
         null,
         "like for like emergency fire system replacement with new fire control panel, power supply panels, smoke det, pull stations at same location. install heat avove panel, monitor modules for flow, tamper, fire pump, relay modules for elev recall",
         "issued",
         "09/16/2016",
         "09/16/2016",
         "09/16/2016",
         null,
         "09/16/2016",
         null,
         "6.0",
         "6.0",
         null,
         "Y",
         "09/11/2017",
         "22000.0",
         "22000.0",
         "artist live/work",
         "127.0",
         "artist live/work",
         "127.0",
         "2.0",
         null,
         "3.0",
         "constr type 3",
         "3.0",
         "constr type 3",
         null,
         null,
         null,
         null,
         null,
         "1437717373707"
        ]
       ],
       "shape": {
        "columns": 43,
        "rows": 10
       }
      },
      "text/html": [
       "<div>\n",
       "<style scoped>\n",
       "    .dataframe tbody tr th:only-of-type {\n",
       "        vertical-align: middle;\n",
       "    }\n",
       "\n",
       "    .dataframe tbody tr th {\n",
       "        vertical-align: top;\n",
       "    }\n",
       "\n",
       "    .dataframe thead th {\n",
       "        text-align: right;\n",
       "    }\n",
       "</style>\n",
       "<table border=\"1\" class=\"dataframe\">\n",
       "  <thead>\n",
       "    <tr style=\"text-align: right;\">\n",
       "      <th></th>\n",
       "      <th>Permit Number</th>\n",
       "      <th>Permit Type</th>\n",
       "      <th>Permit Type Definition</th>\n",
       "      <th>Permit Creation Date</th>\n",
       "      <th>Block</th>\n",
       "      <th>Lot</th>\n",
       "      <th>Street Number</th>\n",
       "      <th>Street Number Suffix</th>\n",
       "      <th>Street Name</th>\n",
       "      <th>Street Suffix</th>\n",
       "      <th>...</th>\n",
       "      <th>Existing Construction Type</th>\n",
       "      <th>Existing Construction Type Description</th>\n",
       "      <th>Proposed Construction Type</th>\n",
       "      <th>Proposed Construction Type Description</th>\n",
       "      <th>Site Permit</th>\n",
       "      <th>Supervisor District</th>\n",
       "      <th>Neighborhoods - Analysis Boundaries</th>\n",
       "      <th>Zipcode</th>\n",
       "      <th>Location</th>\n",
       "      <th>Record ID</th>\n",
       "    </tr>\n",
       "  </thead>\n",
       "  <tbody>\n",
       "    <tr>\n",
       "      <th>185641</th>\n",
       "      <td>201710110999</td>\n",
       "      <td>8</td>\n",
       "      <td>otc alterations permit</td>\n",
       "      <td>10/11/2017</td>\n",
       "      <td>0731</td>\n",
       "      <td>003</td>\n",
       "      <td>1510</td>\n",
       "      <td>NaN</td>\n",
       "      <td>Eddy</td>\n",
       "      <td>St</td>\n",
       "      <td>...</td>\n",
       "      <td>1.0</td>\n",
       "      <td>constr type 1</td>\n",
       "      <td>1.0</td>\n",
       "      <td>constr type 1</td>\n",
       "      <td>NaN</td>\n",
       "      <td>NaN</td>\n",
       "      <td>NaN</td>\n",
       "      <td>NaN</td>\n",
       "      <td>NaN</td>\n",
       "      <td>1483031363174</td>\n",
       "    </tr>\n",
       "    <tr>\n",
       "      <th>165637</th>\n",
       "      <td>M877787</td>\n",
       "      <td>8</td>\n",
       "      <td>otc alterations permit</td>\n",
       "      <td>01/17/2018</td>\n",
       "      <td>3753</td>\n",
       "      <td>073</td>\n",
       "      <td>260</td>\n",
       "      <td>V</td>\n",
       "      <td>Clara</td>\n",
       "      <td>St</td>\n",
       "      <td>...</td>\n",
       "      <td>NaN</td>\n",
       "      <td>NaN</td>\n",
       "      <td>NaN</td>\n",
       "      <td>NaN</td>\n",
       "      <td>NaN</td>\n",
       "      <td>NaN</td>\n",
       "      <td>NaN</td>\n",
       "      <td>NaN</td>\n",
       "      <td>NaN</td>\n",
       "      <td>1493882166212</td>\n",
       "    </tr>\n",
       "    <tr>\n",
       "      <th>31298</th>\n",
       "      <td>201311152069</td>\n",
       "      <td>8</td>\n",
       "      <td>otc alterations permit</td>\n",
       "      <td>11/15/2013</td>\n",
       "      <td>9999</td>\n",
       "      <td>999</td>\n",
       "      <td>2407</td>\n",
       "      <td>NaN</td>\n",
       "      <td>Great</td>\n",
       "      <td>Hy</td>\n",
       "      <td>...</td>\n",
       "      <td>5.0</td>\n",
       "      <td>wood frame (5)</td>\n",
       "      <td>5.0</td>\n",
       "      <td>wood frame (5)</td>\n",
       "      <td>NaN</td>\n",
       "      <td>NaN</td>\n",
       "      <td>NaN</td>\n",
       "      <td>NaN</td>\n",
       "      <td>NaN</td>\n",
       "      <td>1324396476420</td>\n",
       "    </tr>\n",
       "    <tr>\n",
       "      <th>30297</th>\n",
       "      <td>201311061279</td>\n",
       "      <td>3</td>\n",
       "      <td>additions alterations or repairs</td>\n",
       "      <td>11/06/2013</td>\n",
       "      <td>1436</td>\n",
       "      <td>040</td>\n",
       "      <td>343</td>\n",
       "      <td>NaN</td>\n",
       "      <td>Clement</td>\n",
       "      <td>St</td>\n",
       "      <td>...</td>\n",
       "      <td>5.0</td>\n",
       "      <td>wood frame (5)</td>\n",
       "      <td>5.0</td>\n",
       "      <td>wood frame (5)</td>\n",
       "      <td>NaN</td>\n",
       "      <td>NaN</td>\n",
       "      <td>NaN</td>\n",
       "      <td>NaN</td>\n",
       "      <td>NaN</td>\n",
       "      <td>1323354374754</td>\n",
       "    </tr>\n",
       "    <tr>\n",
       "      <th>20954</th>\n",
       "      <td>201308083774</td>\n",
       "      <td>8</td>\n",
       "      <td>otc alterations permit</td>\n",
       "      <td>08/08/2013</td>\n",
       "      <td>6491</td>\n",
       "      <td>012</td>\n",
       "      <td>795</td>\n",
       "      <td>NaN</td>\n",
       "      <td>Brunswick</td>\n",
       "      <td>St</td>\n",
       "      <td>...</td>\n",
       "      <td>5.0</td>\n",
       "      <td>wood frame (5)</td>\n",
       "      <td>5.0</td>\n",
       "      <td>wood frame (5)</td>\n",
       "      <td>NaN</td>\n",
       "      <td>NaN</td>\n",
       "      <td>NaN</td>\n",
       "      <td>NaN</td>\n",
       "      <td>(37.70816952820484, -122.4495824817392)</td>\n",
       "      <td>1313529204976</td>\n",
       "    </tr>\n",
       "    <tr>\n",
       "      <th>6976</th>\n",
       "      <td>M378327</td>\n",
       "      <td>8</td>\n",
       "      <td>otc alterations permit</td>\n",
       "      <td>03/15/2013</td>\n",
       "      <td>0271</td>\n",
       "      <td>014</td>\n",
       "      <td>570</td>\n",
       "      <td>NaN</td>\n",
       "      <td>Bush</td>\n",
       "      <td>St</td>\n",
       "      <td>...</td>\n",
       "      <td>NaN</td>\n",
       "      <td>NaN</td>\n",
       "      <td>NaN</td>\n",
       "      <td>NaN</td>\n",
       "      <td>NaN</td>\n",
       "      <td>NaN</td>\n",
       "      <td>NaN</td>\n",
       "      <td>NaN</td>\n",
       "      <td>NaN</td>\n",
       "      <td>129890166227</td>\n",
       "    </tr>\n",
       "    <tr>\n",
       "      <th>82701</th>\n",
       "      <td>201504163873</td>\n",
       "      <td>8</td>\n",
       "      <td>otc alterations permit</td>\n",
       "      <td>04/16/2015</td>\n",
       "      <td>0750</td>\n",
       "      <td>002</td>\n",
       "      <td>1420</td>\n",
       "      <td>NaN</td>\n",
       "      <td>Turk</td>\n",
       "      <td>St</td>\n",
       "      <td>...</td>\n",
       "      <td>1.0</td>\n",
       "      <td>constr type 1</td>\n",
       "      <td>1.0</td>\n",
       "      <td>constr type 1</td>\n",
       "      <td>NaN</td>\n",
       "      <td>NaN</td>\n",
       "      <td>NaN</td>\n",
       "      <td>NaN</td>\n",
       "      <td>NaN</td>\n",
       "      <td>1378378366050</td>\n",
       "    </tr>\n",
       "    <tr>\n",
       "      <th>101198</th>\n",
       "      <td>201510068901</td>\n",
       "      <td>8</td>\n",
       "      <td>otc alterations permit</td>\n",
       "      <td>10/06/2015</td>\n",
       "      <td>0176</td>\n",
       "      <td>100</td>\n",
       "      <td>535</td>\n",
       "      <td>NaN</td>\n",
       "      <td>Pacific</td>\n",
       "      <td>Av</td>\n",
       "      <td>...</td>\n",
       "      <td>3.0</td>\n",
       "      <td>constr type 3</td>\n",
       "      <td>3.0</td>\n",
       "      <td>constr type 3</td>\n",
       "      <td>NaN</td>\n",
       "      <td>NaN</td>\n",
       "      <td>NaN</td>\n",
       "      <td>NaN</td>\n",
       "      <td>NaN</td>\n",
       "      <td>139821061608</td>\n",
       "    </tr>\n",
       "    <tr>\n",
       "      <th>156628</th>\n",
       "      <td>M709848</td>\n",
       "      <td>8</td>\n",
       "      <td>otc alterations permit</td>\n",
       "      <td>08/01/2016</td>\n",
       "      <td>0911</td>\n",
       "      <td>007</td>\n",
       "      <td>1920</td>\n",
       "      <td>NaN</td>\n",
       "      <td>Jefferson</td>\n",
       "      <td>St</td>\n",
       "      <td>...</td>\n",
       "      <td>NaN</td>\n",
       "      <td>NaN</td>\n",
       "      <td>NaN</td>\n",
       "      <td>NaN</td>\n",
       "      <td>NaN</td>\n",
       "      <td>NaN</td>\n",
       "      <td>NaN</td>\n",
       "      <td>NaN</td>\n",
       "      <td>NaN</td>\n",
       "      <td>1462617238066</td>\n",
       "    </tr>\n",
       "    <tr>\n",
       "      <th>137002</th>\n",
       "      <td>201609167962</td>\n",
       "      <td>8</td>\n",
       "      <td>otc alterations permit</td>\n",
       "      <td>09/16/2016</td>\n",
       "      <td>3764</td>\n",
       "      <td>070</td>\n",
       "      <td>461</td>\n",
       "      <td>NaN</td>\n",
       "      <td>02nd</td>\n",
       "      <td>St</td>\n",
       "      <td>...</td>\n",
       "      <td>3.0</td>\n",
       "      <td>constr type 3</td>\n",
       "      <td>3.0</td>\n",
       "      <td>constr type 3</td>\n",
       "      <td>NaN</td>\n",
       "      <td>NaN</td>\n",
       "      <td>NaN</td>\n",
       "      <td>NaN</td>\n",
       "      <td>NaN</td>\n",
       "      <td>1437717373707</td>\n",
       "    </tr>\n",
       "  </tbody>\n",
       "</table>\n",
       "<p>10 rows × 43 columns</p>\n",
       "</div>"
      ],
      "text/plain": [
       "       Permit Number  Permit Type            Permit Type Definition  \\\n",
       "185641  201710110999            8            otc alterations permit   \n",
       "165637       M877787            8            otc alterations permit   \n",
       "31298   201311152069            8            otc alterations permit   \n",
       "30297   201311061279            3  additions alterations or repairs   \n",
       "20954   201308083774            8            otc alterations permit   \n",
       "6976         M378327            8            otc alterations permit   \n",
       "82701   201504163873            8            otc alterations permit   \n",
       "101198  201510068901            8            otc alterations permit   \n",
       "156628       M709848            8            otc alterations permit   \n",
       "137002  201609167962            8            otc alterations permit   \n",
       "\n",
       "       Permit Creation Date Block  Lot  Street Number Street Number Suffix  \\\n",
       "185641           10/11/2017  0731  003           1510                  NaN   \n",
       "165637           01/17/2018  3753  073            260                    V   \n",
       "31298            11/15/2013  9999  999           2407                  NaN   \n",
       "30297            11/06/2013  1436  040            343                  NaN   \n",
       "20954            08/08/2013  6491  012            795                  NaN   \n",
       "6976             03/15/2013  0271  014            570                  NaN   \n",
       "82701            04/16/2015  0750  002           1420                  NaN   \n",
       "101198           10/06/2015  0176  100            535                  NaN   \n",
       "156628           08/01/2016  0911  007           1920                  NaN   \n",
       "137002           09/16/2016  3764  070            461                  NaN   \n",
       "\n",
       "       Street Name Street Suffix  ...  Existing Construction Type  \\\n",
       "185641        Eddy            St  ...                         1.0   \n",
       "165637       Clara            St  ...                         NaN   \n",
       "31298        Great            Hy  ...                         5.0   \n",
       "30297      Clement            St  ...                         5.0   \n",
       "20954    Brunswick            St  ...                         5.0   \n",
       "6976          Bush            St  ...                         NaN   \n",
       "82701         Turk            St  ...                         1.0   \n",
       "101198     Pacific            Av  ...                         3.0   \n",
       "156628   Jefferson            St  ...                         NaN   \n",
       "137002        02nd            St  ...                         3.0   \n",
       "\n",
       "       Existing Construction Type Description Proposed Construction Type  \\\n",
       "185641                          constr type 1                        1.0   \n",
       "165637                                    NaN                        NaN   \n",
       "31298                          wood frame (5)                        5.0   \n",
       "30297                          wood frame (5)                        5.0   \n",
       "20954                          wood frame (5)                        5.0   \n",
       "6976                                      NaN                        NaN   \n",
       "82701                           constr type 1                        1.0   \n",
       "101198                          constr type 3                        3.0   \n",
       "156628                                    NaN                        NaN   \n",
       "137002                          constr type 3                        3.0   \n",
       "\n",
       "       Proposed Construction Type Description Site Permit Supervisor District  \\\n",
       "185641                          constr type 1         NaN                 NaN   \n",
       "165637                                    NaN         NaN                 NaN   \n",
       "31298                          wood frame (5)         NaN                 NaN   \n",
       "30297                          wood frame (5)         NaN                 NaN   \n",
       "20954                          wood frame (5)         NaN                 NaN   \n",
       "6976                                      NaN         NaN                 NaN   \n",
       "82701                           constr type 1         NaN                 NaN   \n",
       "101198                          constr type 3         NaN                 NaN   \n",
       "156628                                    NaN         NaN                 NaN   \n",
       "137002                          constr type 3         NaN                 NaN   \n",
       "\n",
       "       Neighborhoods - Analysis Boundaries Zipcode  \\\n",
       "185641                                 NaN     NaN   \n",
       "165637                                 NaN     NaN   \n",
       "31298                                  NaN     NaN   \n",
       "30297                                  NaN     NaN   \n",
       "20954                                  NaN     NaN   \n",
       "6976                                   NaN     NaN   \n",
       "82701                                  NaN     NaN   \n",
       "101198                                 NaN     NaN   \n",
       "156628                                 NaN     NaN   \n",
       "137002                                 NaN     NaN   \n",
       "\n",
       "                                       Location      Record ID  \n",
       "185641                                      NaN  1483031363174  \n",
       "165637                                      NaN  1493882166212  \n",
       "31298                                       NaN  1324396476420  \n",
       "30297                                       NaN  1323354374754  \n",
       "20954   (37.70816952820484, -122.4495824817392)  1313529204976  \n",
       "6976                                        NaN   129890166227  \n",
       "82701                                       NaN  1378378366050  \n",
       "101198                                      NaN   139821061608  \n",
       "156628                                      NaN  1462617238066  \n",
       "137002                                      NaN  1437717373707  \n",
       "\n",
       "[10 rows x 43 columns]"
      ]
     },
     "execution_count": 36,
     "metadata": {},
     "output_type": "execute_result"
    }
   ],
   "source": [
    "# sf_permits.sample(300)\n",
    "filtered = sf_permits[sf_permits['Zipcode'].isna()]\n",
    "filtered.size\n",
    "filtered.sample(10)"
   ]
  },
  {
   "cell_type": "markdown",
   "metadata": {
    "_cell_guid": "ea022b62-6419-47e7-973e-c3e707e2795f",
    "_uuid": "3f72f46f2464c7cd12f5eb2a752746ce1cd0b5a7"
   },
   "source": [
    "# Drop missing values\n",
    "___\n",
    "\n",
    "If you're in a hurry or don't have a reason to figure out why your values are missing, one option you have is to just remove any rows or columns that contain missing values. (Note: I don't generally recommend this approch for important projects! It's usually worth it to take the time to go through your data and really look at all the columns with missing values one-by-one to really get to know your dataset.)  \n",
    "\n",
    "If you're sure you want to drop rows with missing values, pandas does have a handy function, `dropna()` to help you do this. Let's try it out on our NFL dataset!"
   ]
  },
  {
   "cell_type": "code",
   "execution_count": 37,
   "metadata": {
    "_cell_guid": "ad0ac9a2-2854-4bb7-8886-8eee7fad8756",
    "_uuid": "ad8ef7825ba9bce3472a47d7c5242a4522f14065",
    "collapsed": true,
    "jupyter": {
     "outputs_hidden": true
    },
    "trusted": false
   },
   "outputs": [
    {
     "data": {
      "application/vnd.microsoft.datawrangler.viewer.v0+json": {
       "columns": [
        {
         "name": "index",
         "rawType": "int64",
         "type": "integer"
        },
        {
         "name": "Date",
         "rawType": "object",
         "type": "string"
        },
        {
         "name": "GameID",
         "rawType": "int64",
         "type": "integer"
        },
        {
         "name": "Drive",
         "rawType": "int64",
         "type": "integer"
        },
        {
         "name": "qtr",
         "rawType": "int64",
         "type": "integer"
        },
        {
         "name": "down",
         "rawType": "float64",
         "type": "float"
        },
        {
         "name": "time",
         "rawType": "object",
         "type": "string"
        },
        {
         "name": "TimeUnder",
         "rawType": "int64",
         "type": "integer"
        },
        {
         "name": "TimeSecs",
         "rawType": "float64",
         "type": "float"
        },
        {
         "name": "PlayTimeDiff",
         "rawType": "float64",
         "type": "float"
        },
        {
         "name": "SideofField",
         "rawType": "object",
         "type": "string"
        },
        {
         "name": "yrdln",
         "rawType": "float64",
         "type": "float"
        },
        {
         "name": "yrdline100",
         "rawType": "float64",
         "type": "float"
        },
        {
         "name": "ydstogo",
         "rawType": "int64",
         "type": "integer"
        },
        {
         "name": "ydsnet",
         "rawType": "int64",
         "type": "integer"
        },
        {
         "name": "GoalToGo",
         "rawType": "float64",
         "type": "float"
        },
        {
         "name": "FirstDown",
         "rawType": "float64",
         "type": "float"
        },
        {
         "name": "posteam",
         "rawType": "object",
         "type": "string"
        },
        {
         "name": "DefensiveTeam",
         "rawType": "object",
         "type": "string"
        },
        {
         "name": "desc",
         "rawType": "object",
         "type": "string"
        },
        {
         "name": "PlayAttempted",
         "rawType": "int64",
         "type": "integer"
        },
        {
         "name": "Yards.Gained",
         "rawType": "int64",
         "type": "integer"
        },
        {
         "name": "sp",
         "rawType": "int64",
         "type": "integer"
        },
        {
         "name": "Touchdown",
         "rawType": "int64",
         "type": "integer"
        },
        {
         "name": "ExPointResult",
         "rawType": "object",
         "type": "string"
        },
        {
         "name": "TwoPointConv",
         "rawType": "object",
         "type": "string"
        },
        {
         "name": "DefTwoPoint",
         "rawType": "object",
         "type": "string"
        },
        {
         "name": "Safety",
         "rawType": "int64",
         "type": "integer"
        },
        {
         "name": "Onsidekick",
         "rawType": "int64",
         "type": "integer"
        },
        {
         "name": "PuntResult",
         "rawType": "object",
         "type": "string"
        },
        {
         "name": "PlayType",
         "rawType": "object",
         "type": "string"
        },
        {
         "name": "Passer",
         "rawType": "object",
         "type": "string"
        },
        {
         "name": "Passer_ID",
         "rawType": "object",
         "type": "string"
        },
        {
         "name": "PassAttempt",
         "rawType": "int64",
         "type": "integer"
        },
        {
         "name": "PassOutcome",
         "rawType": "object",
         "type": "string"
        },
        {
         "name": "PassLength",
         "rawType": "object",
         "type": "string"
        },
        {
         "name": "AirYards",
         "rawType": "int64",
         "type": "integer"
        },
        {
         "name": "YardsAfterCatch",
         "rawType": "int64",
         "type": "integer"
        },
        {
         "name": "QBHit",
         "rawType": "int64",
         "type": "integer"
        },
        {
         "name": "PassLocation",
         "rawType": "object",
         "type": "string"
        },
        {
         "name": "InterceptionThrown",
         "rawType": "int64",
         "type": "integer"
        },
        {
         "name": "Interceptor",
         "rawType": "object",
         "type": "string"
        },
        {
         "name": "Rusher",
         "rawType": "object",
         "type": "string"
        },
        {
         "name": "Rusher_ID",
         "rawType": "object",
         "type": "string"
        },
        {
         "name": "RushAttempt",
         "rawType": "int64",
         "type": "integer"
        },
        {
         "name": "RunLocation",
         "rawType": "object",
         "type": "string"
        },
        {
         "name": "RunGap",
         "rawType": "object",
         "type": "string"
        },
        {
         "name": "Receiver",
         "rawType": "object",
         "type": "string"
        },
        {
         "name": "Receiver_ID",
         "rawType": "object",
         "type": "string"
        },
        {
         "name": "Reception",
         "rawType": "int64",
         "type": "integer"
        },
        {
         "name": "ReturnResult",
         "rawType": "object",
         "type": "string"
        },
        {
         "name": "Returner",
         "rawType": "object",
         "type": "string"
        },
        {
         "name": "BlockingPlayer",
         "rawType": "object",
         "type": "string"
        },
        {
         "name": "Tackler1",
         "rawType": "object",
         "type": "string"
        },
        {
         "name": "Tackler2",
         "rawType": "object",
         "type": "string"
        },
        {
         "name": "FieldGoalResult",
         "rawType": "object",
         "type": "string"
        },
        {
         "name": "FieldGoalDistance",
         "rawType": "float64",
         "type": "float"
        },
        {
         "name": "Fumble",
         "rawType": "int64",
         "type": "integer"
        },
        {
         "name": "RecFumbTeam",
         "rawType": "object",
         "type": "string"
        },
        {
         "name": "RecFumbPlayer",
         "rawType": "object",
         "type": "string"
        },
        {
         "name": "Sack",
         "rawType": "int64",
         "type": "integer"
        },
        {
         "name": "Challenge.Replay",
         "rawType": "int64",
         "type": "integer"
        },
        {
         "name": "ChalReplayResult",
         "rawType": "object",
         "type": "string"
        },
        {
         "name": "Accepted.Penalty",
         "rawType": "int64",
         "type": "integer"
        },
        {
         "name": "PenalizedTeam",
         "rawType": "object",
         "type": "string"
        },
        {
         "name": "PenaltyType",
         "rawType": "object",
         "type": "string"
        },
        {
         "name": "PenalizedPlayer",
         "rawType": "object",
         "type": "string"
        },
        {
         "name": "Penalty.Yards",
         "rawType": "int64",
         "type": "integer"
        },
        {
         "name": "PosTeamScore",
         "rawType": "float64",
         "type": "float"
        },
        {
         "name": "DefTeamScore",
         "rawType": "float64",
         "type": "float"
        },
        {
         "name": "ScoreDiff",
         "rawType": "float64",
         "type": "float"
        },
        {
         "name": "AbsScoreDiff",
         "rawType": "float64",
         "type": "float"
        },
        {
         "name": "HomeTeam",
         "rawType": "object",
         "type": "string"
        },
        {
         "name": "AwayTeam",
         "rawType": "object",
         "type": "string"
        },
        {
         "name": "Timeout_Indicator",
         "rawType": "int64",
         "type": "integer"
        },
        {
         "name": "Timeout_Team",
         "rawType": "object",
         "type": "string"
        },
        {
         "name": "posteam_timeouts_pre",
         "rawType": "int64",
         "type": "integer"
        },
        {
         "name": "HomeTimeouts_Remaining_Pre",
         "rawType": "int64",
         "type": "integer"
        },
        {
         "name": "AwayTimeouts_Remaining_Pre",
         "rawType": "int64",
         "type": "integer"
        },
        {
         "name": "HomeTimeouts_Remaining_Post",
         "rawType": "int64",
         "type": "integer"
        },
        {
         "name": "AwayTimeouts_Remaining_Post",
         "rawType": "int64",
         "type": "integer"
        },
        {
         "name": "No_Score_Prob",
         "rawType": "float64",
         "type": "float"
        },
        {
         "name": "Opp_Field_Goal_Prob",
         "rawType": "float64",
         "type": "float"
        },
        {
         "name": "Opp_Safety_Prob",
         "rawType": "float64",
         "type": "float"
        },
        {
         "name": "Opp_Touchdown_Prob",
         "rawType": "float64",
         "type": "float"
        },
        {
         "name": "Field_Goal_Prob",
         "rawType": "float64",
         "type": "float"
        },
        {
         "name": "Safety_Prob",
         "rawType": "float64",
         "type": "float"
        },
        {
         "name": "Touchdown_Prob",
         "rawType": "float64",
         "type": "float"
        },
        {
         "name": "ExPoint_Prob",
         "rawType": "float64",
         "type": "float"
        },
        {
         "name": "TwoPoint_Prob",
         "rawType": "float64",
         "type": "float"
        },
        {
         "name": "ExpPts",
         "rawType": "float64",
         "type": "float"
        },
        {
         "name": "EPA",
         "rawType": "float64",
         "type": "float"
        },
        {
         "name": "airEPA",
         "rawType": "float64",
         "type": "float"
        },
        {
         "name": "yacEPA",
         "rawType": "float64",
         "type": "float"
        },
        {
         "name": "Home_WP_pre",
         "rawType": "float64",
         "type": "float"
        },
        {
         "name": "Away_WP_pre",
         "rawType": "float64",
         "type": "float"
        },
        {
         "name": "Home_WP_post",
         "rawType": "float64",
         "type": "float"
        },
        {
         "name": "Away_WP_post",
         "rawType": "float64",
         "type": "float"
        },
        {
         "name": "Win_Prob",
         "rawType": "float64",
         "type": "float"
        },
        {
         "name": "WPA",
         "rawType": "float64",
         "type": "float"
        },
        {
         "name": "airWPA",
         "rawType": "float64",
         "type": "float"
        },
        {
         "name": "yacWPA",
         "rawType": "float64",
         "type": "float"
        },
        {
         "name": "Season",
         "rawType": "int64",
         "type": "integer"
        }
       ],
       "conversionMethod": "pd.DataFrame",
       "ref": "b721741b-938c-46a2-b08f-18bd72d2b283",
       "rows": [],
       "shape": {
        "columns": 102,
        "rows": 0
       }
      },
      "text/html": [
       "<div>\n",
       "<style scoped>\n",
       "    .dataframe tbody tr th:only-of-type {\n",
       "        vertical-align: middle;\n",
       "    }\n",
       "\n",
       "    .dataframe tbody tr th {\n",
       "        vertical-align: top;\n",
       "    }\n",
       "\n",
       "    .dataframe thead th {\n",
       "        text-align: right;\n",
       "    }\n",
       "</style>\n",
       "<table border=\"1\" class=\"dataframe\">\n",
       "  <thead>\n",
       "    <tr style=\"text-align: right;\">\n",
       "      <th></th>\n",
       "      <th>Date</th>\n",
       "      <th>GameID</th>\n",
       "      <th>Drive</th>\n",
       "      <th>qtr</th>\n",
       "      <th>down</th>\n",
       "      <th>time</th>\n",
       "      <th>TimeUnder</th>\n",
       "      <th>TimeSecs</th>\n",
       "      <th>PlayTimeDiff</th>\n",
       "      <th>SideofField</th>\n",
       "      <th>...</th>\n",
       "      <th>yacEPA</th>\n",
       "      <th>Home_WP_pre</th>\n",
       "      <th>Away_WP_pre</th>\n",
       "      <th>Home_WP_post</th>\n",
       "      <th>Away_WP_post</th>\n",
       "      <th>Win_Prob</th>\n",
       "      <th>WPA</th>\n",
       "      <th>airWPA</th>\n",
       "      <th>yacWPA</th>\n",
       "      <th>Season</th>\n",
       "    </tr>\n",
       "  </thead>\n",
       "  <tbody>\n",
       "  </tbody>\n",
       "</table>\n",
       "<p>0 rows × 102 columns</p>\n",
       "</div>"
      ],
      "text/plain": [
       "Empty DataFrame\n",
       "Columns: [Date, GameID, Drive, qtr, down, time, TimeUnder, TimeSecs, PlayTimeDiff, SideofField, yrdln, yrdline100, ydstogo, ydsnet, GoalToGo, FirstDown, posteam, DefensiveTeam, desc, PlayAttempted, Yards.Gained, sp, Touchdown, ExPointResult, TwoPointConv, DefTwoPoint, Safety, Onsidekick, PuntResult, PlayType, Passer, Passer_ID, PassAttempt, PassOutcome, PassLength, AirYards, YardsAfterCatch, QBHit, PassLocation, InterceptionThrown, Interceptor, Rusher, Rusher_ID, RushAttempt, RunLocation, RunGap, Receiver, Receiver_ID, Reception, ReturnResult, Returner, BlockingPlayer, Tackler1, Tackler2, FieldGoalResult, FieldGoalDistance, Fumble, RecFumbTeam, RecFumbPlayer, Sack, Challenge.Replay, ChalReplayResult, Accepted.Penalty, PenalizedTeam, PenaltyType, PenalizedPlayer, Penalty.Yards, PosTeamScore, DefTeamScore, ScoreDiff, AbsScoreDiff, HomeTeam, AwayTeam, Timeout_Indicator, Timeout_Team, posteam_timeouts_pre, HomeTimeouts_Remaining_Pre, AwayTimeouts_Remaining_Pre, HomeTimeouts_Remaining_Post, AwayTimeouts_Remaining_Post, No_Score_Prob, Opp_Field_Goal_Prob, Opp_Safety_Prob, Opp_Touchdown_Prob, Field_Goal_Prob, Safety_Prob, Touchdown_Prob, ExPoint_Prob, TwoPoint_Prob, ExpPts, EPA, airEPA, yacEPA, Home_WP_pre, Away_WP_pre, Home_WP_post, Away_WP_post, Win_Prob, WPA, airWPA, ...]\n",
       "Index: []\n",
       "\n",
       "[0 rows x 102 columns]"
      ]
     },
     "execution_count": 37,
     "metadata": {},
     "output_type": "execute_result"
    }
   ],
   "source": [
    "# remove all the rows that contain a missing value\n",
    "nfl_data.dropna()"
   ]
  },
  {
   "cell_type": "markdown",
   "metadata": {
    "_cell_guid": "e0545655-3d37-448b-ae56-2c7707cd805d",
    "_uuid": "33eb849e076d2a4d0c409f58d78b5f303879b1b3"
   },
   "source": [
    "Oh dear, it looks like that's removed all our data! 😱 This is because every row in our dataset had at least one missing value. We might have better luck removing all the *columns* that have at least one missing value instead."
   ]
  },
  {
   "cell_type": "code",
   "execution_count": 38,
   "metadata": {
    "_cell_guid": "97709ad4-f7b8-4cd0-8911-56e14db904ae",
    "_uuid": "87c569672854fe23e1ee9376ef3115ba4712cbf5",
    "collapsed": true,
    "jupyter": {
     "outputs_hidden": true
    },
    "trusted": false
   },
   "outputs": [
    {
     "data": {
      "application/vnd.microsoft.datawrangler.viewer.v0+json": {
       "columns": [
        {
         "name": "index",
         "rawType": "int64",
         "type": "integer"
        },
        {
         "name": "Date",
         "rawType": "object",
         "type": "string"
        },
        {
         "name": "GameID",
         "rawType": "int64",
         "type": "integer"
        },
        {
         "name": "Drive",
         "rawType": "int64",
         "type": "integer"
        },
        {
         "name": "qtr",
         "rawType": "int64",
         "type": "integer"
        },
        {
         "name": "TimeUnder",
         "rawType": "int64",
         "type": "integer"
        },
        {
         "name": "ydstogo",
         "rawType": "int64",
         "type": "integer"
        },
        {
         "name": "ydsnet",
         "rawType": "int64",
         "type": "integer"
        },
        {
         "name": "PlayAttempted",
         "rawType": "int64",
         "type": "integer"
        },
        {
         "name": "Yards.Gained",
         "rawType": "int64",
         "type": "integer"
        },
        {
         "name": "sp",
         "rawType": "int64",
         "type": "integer"
        },
        {
         "name": "Touchdown",
         "rawType": "int64",
         "type": "integer"
        },
        {
         "name": "Safety",
         "rawType": "int64",
         "type": "integer"
        },
        {
         "name": "Onsidekick",
         "rawType": "int64",
         "type": "integer"
        },
        {
         "name": "PlayType",
         "rawType": "object",
         "type": "string"
        },
        {
         "name": "PassAttempt",
         "rawType": "int64",
         "type": "integer"
        },
        {
         "name": "AirYards",
         "rawType": "int64",
         "type": "integer"
        },
        {
         "name": "YardsAfterCatch",
         "rawType": "int64",
         "type": "integer"
        },
        {
         "name": "QBHit",
         "rawType": "int64",
         "type": "integer"
        },
        {
         "name": "InterceptionThrown",
         "rawType": "int64",
         "type": "integer"
        },
        {
         "name": "RushAttempt",
         "rawType": "int64",
         "type": "integer"
        },
        {
         "name": "Reception",
         "rawType": "int64",
         "type": "integer"
        },
        {
         "name": "Fumble",
         "rawType": "int64",
         "type": "integer"
        },
        {
         "name": "Sack",
         "rawType": "int64",
         "type": "integer"
        },
        {
         "name": "Challenge.Replay",
         "rawType": "int64",
         "type": "integer"
        },
        {
         "name": "Accepted.Penalty",
         "rawType": "int64",
         "type": "integer"
        },
        {
         "name": "Penalty.Yards",
         "rawType": "int64",
         "type": "integer"
        },
        {
         "name": "HomeTeam",
         "rawType": "object",
         "type": "string"
        },
        {
         "name": "AwayTeam",
         "rawType": "object",
         "type": "string"
        },
        {
         "name": "Timeout_Indicator",
         "rawType": "int64",
         "type": "integer"
        },
        {
         "name": "posteam_timeouts_pre",
         "rawType": "int64",
         "type": "integer"
        },
        {
         "name": "HomeTimeouts_Remaining_Pre",
         "rawType": "int64",
         "type": "integer"
        },
        {
         "name": "AwayTimeouts_Remaining_Pre",
         "rawType": "int64",
         "type": "integer"
        },
        {
         "name": "HomeTimeouts_Remaining_Post",
         "rawType": "int64",
         "type": "integer"
        },
        {
         "name": "AwayTimeouts_Remaining_Post",
         "rawType": "int64",
         "type": "integer"
        },
        {
         "name": "ExPoint_Prob",
         "rawType": "float64",
         "type": "float"
        },
        {
         "name": "TwoPoint_Prob",
         "rawType": "float64",
         "type": "float"
        },
        {
         "name": "Season",
         "rawType": "int64",
         "type": "integer"
        }
       ],
       "conversionMethod": "pd.DataFrame",
       "ref": "bd289e14-fa91-40ca-8c9b-8ff0ca59fbac",
       "rows": [
        [
         "0",
         "2009-09-10",
         "2009091000",
         "1",
         "1",
         "15",
         "0",
         "0",
         "1",
         "39",
         "0",
         "0",
         "0",
         "0",
         "Kickoff",
         "0",
         "0",
         "0",
         "0",
         "0",
         "0",
         "0",
         "0",
         "0",
         "0",
         "0",
         "0",
         "PIT",
         "TEN",
         "0",
         "3",
         "3",
         "3",
         "3",
         "3",
         "0.0",
         "0.0",
         "2009"
        ],
        [
         "1",
         "2009-09-10",
         "2009091000",
         "1",
         "1",
         "15",
         "10",
         "5",
         "1",
         "5",
         "0",
         "0",
         "0",
         "0",
         "Pass",
         "1",
         "-3",
         "8",
         "0",
         "0",
         "0",
         "1",
         "0",
         "0",
         "0",
         "0",
         "0",
         "PIT",
         "TEN",
         "0",
         "3",
         "3",
         "3",
         "3",
         "3",
         "0.0",
         "0.0",
         "2009"
        ],
        [
         "2",
         "2009-09-10",
         "2009091000",
         "1",
         "1",
         "15",
         "5",
         "2",
         "1",
         "-3",
         "0",
         "0",
         "0",
         "0",
         "Run",
         "0",
         "0",
         "0",
         "0",
         "0",
         "1",
         "0",
         "0",
         "0",
         "0",
         "0",
         "0",
         "PIT",
         "TEN",
         "0",
         "3",
         "3",
         "3",
         "3",
         "3",
         "0.0",
         "0.0",
         "2009"
        ],
        [
         "3",
         "2009-09-10",
         "2009091000",
         "1",
         "1",
         "14",
         "8",
         "2",
         "1",
         "0",
         "0",
         "0",
         "0",
         "0",
         "Pass",
         "1",
         "34",
         "0",
         "0",
         "0",
         "0",
         "0",
         "0",
         "0",
         "0",
         "0",
         "0",
         "PIT",
         "TEN",
         "0",
         "3",
         "3",
         "3",
         "3",
         "3",
         "0.0",
         "0.0",
         "2009"
        ],
        [
         "4",
         "2009-09-10",
         "2009091000",
         "1",
         "1",
         "14",
         "8",
         "2",
         "1",
         "0",
         "0",
         "0",
         "0",
         "0",
         "Punt",
         "0",
         "0",
         "0",
         "0",
         "0",
         "0",
         "0",
         "0",
         "0",
         "0",
         "0",
         "0",
         "PIT",
         "TEN",
         "0",
         "3",
         "3",
         "3",
         "3",
         "3",
         "0.0",
         "0.0",
         "2009"
        ]
       ],
       "shape": {
        "columns": 37,
        "rows": 5
       }
      },
      "text/html": [
       "<div>\n",
       "<style scoped>\n",
       "    .dataframe tbody tr th:only-of-type {\n",
       "        vertical-align: middle;\n",
       "    }\n",
       "\n",
       "    .dataframe tbody tr th {\n",
       "        vertical-align: top;\n",
       "    }\n",
       "\n",
       "    .dataframe thead th {\n",
       "        text-align: right;\n",
       "    }\n",
       "</style>\n",
       "<table border=\"1\" class=\"dataframe\">\n",
       "  <thead>\n",
       "    <tr style=\"text-align: right;\">\n",
       "      <th></th>\n",
       "      <th>Date</th>\n",
       "      <th>GameID</th>\n",
       "      <th>Drive</th>\n",
       "      <th>qtr</th>\n",
       "      <th>TimeUnder</th>\n",
       "      <th>ydstogo</th>\n",
       "      <th>ydsnet</th>\n",
       "      <th>PlayAttempted</th>\n",
       "      <th>Yards.Gained</th>\n",
       "      <th>sp</th>\n",
       "      <th>...</th>\n",
       "      <th>AwayTeam</th>\n",
       "      <th>Timeout_Indicator</th>\n",
       "      <th>posteam_timeouts_pre</th>\n",
       "      <th>HomeTimeouts_Remaining_Pre</th>\n",
       "      <th>AwayTimeouts_Remaining_Pre</th>\n",
       "      <th>HomeTimeouts_Remaining_Post</th>\n",
       "      <th>AwayTimeouts_Remaining_Post</th>\n",
       "      <th>ExPoint_Prob</th>\n",
       "      <th>TwoPoint_Prob</th>\n",
       "      <th>Season</th>\n",
       "    </tr>\n",
       "  </thead>\n",
       "  <tbody>\n",
       "    <tr>\n",
       "      <th>0</th>\n",
       "      <td>2009-09-10</td>\n",
       "      <td>2009091000</td>\n",
       "      <td>1</td>\n",
       "      <td>1</td>\n",
       "      <td>15</td>\n",
       "      <td>0</td>\n",
       "      <td>0</td>\n",
       "      <td>1</td>\n",
       "      <td>39</td>\n",
       "      <td>0</td>\n",
       "      <td>...</td>\n",
       "      <td>TEN</td>\n",
       "      <td>0</td>\n",
       "      <td>3</td>\n",
       "      <td>3</td>\n",
       "      <td>3</td>\n",
       "      <td>3</td>\n",
       "      <td>3</td>\n",
       "      <td>0.0</td>\n",
       "      <td>0.0</td>\n",
       "      <td>2009</td>\n",
       "    </tr>\n",
       "    <tr>\n",
       "      <th>1</th>\n",
       "      <td>2009-09-10</td>\n",
       "      <td>2009091000</td>\n",
       "      <td>1</td>\n",
       "      <td>1</td>\n",
       "      <td>15</td>\n",
       "      <td>10</td>\n",
       "      <td>5</td>\n",
       "      <td>1</td>\n",
       "      <td>5</td>\n",
       "      <td>0</td>\n",
       "      <td>...</td>\n",
       "      <td>TEN</td>\n",
       "      <td>0</td>\n",
       "      <td>3</td>\n",
       "      <td>3</td>\n",
       "      <td>3</td>\n",
       "      <td>3</td>\n",
       "      <td>3</td>\n",
       "      <td>0.0</td>\n",
       "      <td>0.0</td>\n",
       "      <td>2009</td>\n",
       "    </tr>\n",
       "    <tr>\n",
       "      <th>2</th>\n",
       "      <td>2009-09-10</td>\n",
       "      <td>2009091000</td>\n",
       "      <td>1</td>\n",
       "      <td>1</td>\n",
       "      <td>15</td>\n",
       "      <td>5</td>\n",
       "      <td>2</td>\n",
       "      <td>1</td>\n",
       "      <td>-3</td>\n",
       "      <td>0</td>\n",
       "      <td>...</td>\n",
       "      <td>TEN</td>\n",
       "      <td>0</td>\n",
       "      <td>3</td>\n",
       "      <td>3</td>\n",
       "      <td>3</td>\n",
       "      <td>3</td>\n",
       "      <td>3</td>\n",
       "      <td>0.0</td>\n",
       "      <td>0.0</td>\n",
       "      <td>2009</td>\n",
       "    </tr>\n",
       "    <tr>\n",
       "      <th>3</th>\n",
       "      <td>2009-09-10</td>\n",
       "      <td>2009091000</td>\n",
       "      <td>1</td>\n",
       "      <td>1</td>\n",
       "      <td>14</td>\n",
       "      <td>8</td>\n",
       "      <td>2</td>\n",
       "      <td>1</td>\n",
       "      <td>0</td>\n",
       "      <td>0</td>\n",
       "      <td>...</td>\n",
       "      <td>TEN</td>\n",
       "      <td>0</td>\n",
       "      <td>3</td>\n",
       "      <td>3</td>\n",
       "      <td>3</td>\n",
       "      <td>3</td>\n",
       "      <td>3</td>\n",
       "      <td>0.0</td>\n",
       "      <td>0.0</td>\n",
       "      <td>2009</td>\n",
       "    </tr>\n",
       "    <tr>\n",
       "      <th>4</th>\n",
       "      <td>2009-09-10</td>\n",
       "      <td>2009091000</td>\n",
       "      <td>1</td>\n",
       "      <td>1</td>\n",
       "      <td>14</td>\n",
       "      <td>8</td>\n",
       "      <td>2</td>\n",
       "      <td>1</td>\n",
       "      <td>0</td>\n",
       "      <td>0</td>\n",
       "      <td>...</td>\n",
       "      <td>TEN</td>\n",
       "      <td>0</td>\n",
       "      <td>3</td>\n",
       "      <td>3</td>\n",
       "      <td>3</td>\n",
       "      <td>3</td>\n",
       "      <td>3</td>\n",
       "      <td>0.0</td>\n",
       "      <td>0.0</td>\n",
       "      <td>2009</td>\n",
       "    </tr>\n",
       "  </tbody>\n",
       "</table>\n",
       "<p>5 rows × 37 columns</p>\n",
       "</div>"
      ],
      "text/plain": [
       "         Date      GameID  Drive  qtr  TimeUnder  ydstogo  ydsnet  \\\n",
       "0  2009-09-10  2009091000      1    1         15        0       0   \n",
       "1  2009-09-10  2009091000      1    1         15       10       5   \n",
       "2  2009-09-10  2009091000      1    1         15        5       2   \n",
       "3  2009-09-10  2009091000      1    1         14        8       2   \n",
       "4  2009-09-10  2009091000      1    1         14        8       2   \n",
       "\n",
       "   PlayAttempted  Yards.Gained  sp  ...  AwayTeam  Timeout_Indicator  \\\n",
       "0              1            39   0  ...       TEN                  0   \n",
       "1              1             5   0  ...       TEN                  0   \n",
       "2              1            -3   0  ...       TEN                  0   \n",
       "3              1             0   0  ...       TEN                  0   \n",
       "4              1             0   0  ...       TEN                  0   \n",
       "\n",
       "   posteam_timeouts_pre HomeTimeouts_Remaining_Pre  \\\n",
       "0                     3                          3   \n",
       "1                     3                          3   \n",
       "2                     3                          3   \n",
       "3                     3                          3   \n",
       "4                     3                          3   \n",
       "\n",
       "   AwayTimeouts_Remaining_Pre  HomeTimeouts_Remaining_Post  \\\n",
       "0                           3                            3   \n",
       "1                           3                            3   \n",
       "2                           3                            3   \n",
       "3                           3                            3   \n",
       "4                           3                            3   \n",
       "\n",
       "   AwayTimeouts_Remaining_Post  ExPoint_Prob  TwoPoint_Prob  Season  \n",
       "0                            3           0.0            0.0    2009  \n",
       "1                            3           0.0            0.0    2009  \n",
       "2                            3           0.0            0.0    2009  \n",
       "3                            3           0.0            0.0    2009  \n",
       "4                            3           0.0            0.0    2009  \n",
       "\n",
       "[5 rows x 37 columns]"
      ]
     },
     "execution_count": 38,
     "metadata": {},
     "output_type": "execute_result"
    }
   ],
   "source": [
    "# remove all columns with at least one missing value\n",
    "columns_with_na_dropped = nfl_data.dropna(axis=1)\n",
    "columns_with_na_dropped.head()"
   ]
  },
  {
   "cell_type": "code",
   "execution_count": 39,
   "metadata": {
    "_cell_guid": "0e51b19b-c44d-4487-8417-725d2b911739",
    "_uuid": "e60a092d2799851aa725eadf28b197022a6b127f",
    "collapsed": true,
    "jupyter": {
     "outputs_hidden": true
    },
    "trusted": false
   },
   "outputs": [
    {
     "name": "stdout",
     "output_type": "stream",
     "text": [
      "Columns in original dataset: 102 \n",
      "\n",
      "Columns with na's dropped: 37\n"
     ]
    }
   ],
   "source": [
    "# just how much data did we lose?\n",
    "print(\"Columns in original dataset: %d \\n\" % nfl_data.shape[1])\n",
    "print(\"Columns with na's dropped: %d\" % columns_with_na_dropped.shape[1])"
   ]
  },
  {
   "cell_type": "markdown",
   "metadata": {
    "_cell_guid": "f417c614-f77f-45eb-b16b-fdc0be936502",
    "_uuid": "bac84fee4ca849e54839c716c43dddfbb559954b"
   },
   "source": [
    "We've lost quite a bit of data, but at this point we have successfully removed all the `NaN`'s from our data. "
   ]
  },
  {
   "cell_type": "code",
   "execution_count": 41,
   "metadata": {
    "_cell_guid": "0fe94654-7dad-4e8d-bbbb-e65e2bb2f767",
    "_uuid": "8207912f74712835283f7e1b30dad0471ee2e1fc",
    "collapsed": true,
    "jupyter": {
     "outputs_hidden": true
    },
    "trusted": false
   },
   "outputs": [
    {
     "data": {
      "application/vnd.microsoft.datawrangler.viewer.v0+json": {
       "columns": [
        {
         "name": "index",
         "rawType": "int64",
         "type": "integer"
        },
        {
         "name": "Permit Number",
         "rawType": "object",
         "type": "string"
        },
        {
         "name": "Permit Type",
         "rawType": "int64",
         "type": "integer"
        },
        {
         "name": "Permit Type Definition",
         "rawType": "object",
         "type": "string"
        },
        {
         "name": "Permit Creation Date",
         "rawType": "object",
         "type": "string"
        },
        {
         "name": "Block",
         "rawType": "object",
         "type": "string"
        },
        {
         "name": "Lot",
         "rawType": "object",
         "type": "string"
        },
        {
         "name": "Street Number",
         "rawType": "int64",
         "type": "integer"
        },
        {
         "name": "Street Number Suffix",
         "rawType": "object",
         "type": "string"
        },
        {
         "name": "Street Name",
         "rawType": "object",
         "type": "string"
        },
        {
         "name": "Street Suffix",
         "rawType": "object",
         "type": "string"
        },
        {
         "name": "Unit",
         "rawType": "float64",
         "type": "float"
        },
        {
         "name": "Unit Suffix",
         "rawType": "object",
         "type": "string"
        },
        {
         "name": "Description",
         "rawType": "object",
         "type": "string"
        },
        {
         "name": "Current Status",
         "rawType": "object",
         "type": "string"
        },
        {
         "name": "Current Status Date",
         "rawType": "object",
         "type": "string"
        },
        {
         "name": "Filed Date",
         "rawType": "object",
         "type": "string"
        },
        {
         "name": "Issued Date",
         "rawType": "object",
         "type": "string"
        },
        {
         "name": "Completed Date",
         "rawType": "object",
         "type": "string"
        },
        {
         "name": "First Construction Document Date",
         "rawType": "object",
         "type": "string"
        },
        {
         "name": "Structural Notification",
         "rawType": "object",
         "type": "string"
        },
        {
         "name": "Number of Existing Stories",
         "rawType": "float64",
         "type": "float"
        },
        {
         "name": "Number of Proposed Stories",
         "rawType": "float64",
         "type": "float"
        },
        {
         "name": "Voluntary Soft-Story Retrofit",
         "rawType": "object",
         "type": "string"
        },
        {
         "name": "Fire Only Permit",
         "rawType": "object",
         "type": "string"
        },
        {
         "name": "Permit Expiration Date",
         "rawType": "object",
         "type": "string"
        },
        {
         "name": "Estimated Cost",
         "rawType": "float64",
         "type": "float"
        },
        {
         "name": "Revised Cost",
         "rawType": "float64",
         "type": "float"
        },
        {
         "name": "Existing Use",
         "rawType": "object",
         "type": "string"
        },
        {
         "name": "Existing Units",
         "rawType": "float64",
         "type": "float"
        },
        {
         "name": "Proposed Use",
         "rawType": "object",
         "type": "string"
        },
        {
         "name": "Proposed Units",
         "rawType": "float64",
         "type": "float"
        },
        {
         "name": "Plansets",
         "rawType": "float64",
         "type": "float"
        },
        {
         "name": "TIDF Compliance",
         "rawType": "object",
         "type": "string"
        },
        {
         "name": "Existing Construction Type",
         "rawType": "float64",
         "type": "float"
        },
        {
         "name": "Existing Construction Type Description",
         "rawType": "object",
         "type": "string"
        },
        {
         "name": "Proposed Construction Type",
         "rawType": "float64",
         "type": "float"
        },
        {
         "name": "Proposed Construction Type Description",
         "rawType": "object",
         "type": "string"
        },
        {
         "name": "Site Permit",
         "rawType": "object",
         "type": "string"
        },
        {
         "name": "Supervisor District",
         "rawType": "float64",
         "type": "float"
        },
        {
         "name": "Neighborhoods - Analysis Boundaries",
         "rawType": "object",
         "type": "string"
        },
        {
         "name": "Zipcode",
         "rawType": "float64",
         "type": "float"
        },
        {
         "name": "Location",
         "rawType": "object",
         "type": "string"
        },
        {
         "name": "Record ID",
         "rawType": "int64",
         "type": "integer"
        }
       ],
       "conversionMethod": "pd.DataFrame",
       "ref": "3de5d795-ce80-4087-9b3d-fe75abaa3b98",
       "rows": [],
       "shape": {
        "columns": 43,
        "rows": 0
       }
      },
      "text/html": [
       "<div>\n",
       "<style scoped>\n",
       "    .dataframe tbody tr th:only-of-type {\n",
       "        vertical-align: middle;\n",
       "    }\n",
       "\n",
       "    .dataframe tbody tr th {\n",
       "        vertical-align: top;\n",
       "    }\n",
       "\n",
       "    .dataframe thead th {\n",
       "        text-align: right;\n",
       "    }\n",
       "</style>\n",
       "<table border=\"1\" class=\"dataframe\">\n",
       "  <thead>\n",
       "    <tr style=\"text-align: right;\">\n",
       "      <th></th>\n",
       "      <th>Permit Number</th>\n",
       "      <th>Permit Type</th>\n",
       "      <th>Permit Type Definition</th>\n",
       "      <th>Permit Creation Date</th>\n",
       "      <th>Block</th>\n",
       "      <th>Lot</th>\n",
       "      <th>Street Number</th>\n",
       "      <th>Street Number Suffix</th>\n",
       "      <th>Street Name</th>\n",
       "      <th>Street Suffix</th>\n",
       "      <th>...</th>\n",
       "      <th>Existing Construction Type</th>\n",
       "      <th>Existing Construction Type Description</th>\n",
       "      <th>Proposed Construction Type</th>\n",
       "      <th>Proposed Construction Type Description</th>\n",
       "      <th>Site Permit</th>\n",
       "      <th>Supervisor District</th>\n",
       "      <th>Neighborhoods - Analysis Boundaries</th>\n",
       "      <th>Zipcode</th>\n",
       "      <th>Location</th>\n",
       "      <th>Record ID</th>\n",
       "    </tr>\n",
       "  </thead>\n",
       "  <tbody>\n",
       "  </tbody>\n",
       "</table>\n",
       "<p>0 rows × 43 columns</p>\n",
       "</div>"
      ],
      "text/plain": [
       "Empty DataFrame\n",
       "Columns: [Permit Number, Permit Type, Permit Type Definition, Permit Creation Date, Block, Lot, Street Number, Street Number Suffix, Street Name, Street Suffix, Unit, Unit Suffix, Description, Current Status, Current Status Date, Filed Date, Issued Date, Completed Date, First Construction Document Date, Structural Notification, Number of Existing Stories, Number of Proposed Stories, Voluntary Soft-Story Retrofit, Fire Only Permit, Permit Expiration Date, Estimated Cost, Revised Cost, Existing Use, Existing Units, Proposed Use, Proposed Units, Plansets, TIDF Compliance, Existing Construction Type, Existing Construction Type Description, Proposed Construction Type, Proposed Construction Type Description, Site Permit, Supervisor District, Neighborhoods - Analysis Boundaries, Zipcode, Location, Record ID]\n",
       "Index: []\n",
       "\n",
       "[0 rows x 43 columns]"
      ]
     },
     "execution_count": 41,
     "metadata": {},
     "output_type": "execute_result"
    }
   ],
   "source": [
    "# Your turn! Try removing all the rows from the sf_permits dataset that contain missing values. How many are left?\n",
    "sf_permits.dropna()\n"
   ]
  },
  {
   "cell_type": "code",
   "execution_count": 44,
   "metadata": {
    "_cell_guid": "7ec643e1-abba-4683-b794-a1924e657501",
    "_uuid": "f804c0448b18b6d411ddf8452d15abba8292fffa",
    "collapsed": true,
    "jupyter": {
     "outputs_hidden": true
    },
    "trusted": false
   },
   "outputs": [
    {
     "name": "stdout",
     "output_type": "stream",
     "text": [
      "original sf_permits dataset shape: 43\n",
      "sf_permits dataset shape after dropping columns with na: 12\n"
     ]
    }
   ],
   "source": [
    "# Now try removing all the columns with empty values. Now how much of your data is left?\n",
    "columns_with_na_dropped_sf = sf_permits.dropna(axis=1)\n",
    "columns_with_na_dropped_sf.head()\n",
    "\n",
    "print('original sf_permits dataset shape:', sf_permits.shape[1])\n",
    "print('sf_permits dataset shape after dropping columns with na:', columns_with_na_dropped_sf.shape[1])"
   ]
  },
  {
   "cell_type": "markdown",
   "metadata": {
    "_cell_guid": "1dbe153d-7b30-4ad8-80ad-a4c7fb53928e",
    "_uuid": "eb1ef8d47d9ebed77c3d21eca24708708ed4d45f"
   },
   "source": [
    "# Filling in missing values automatically\n",
    "_____\n",
    "\n",
    "Another option is to try and fill in the missing values. For this next bit, I'm getting a small sub-section of the NFL data so that it will print well."
   ]
  },
  {
   "cell_type": "code",
   "execution_count": 45,
   "metadata": {
    "_cell_guid": "76fd83fb-a6d9-4c03-8c94-a111ee529881",
    "_uuid": "e0944282c73a63513d5345689ddd6a9da0fc8547",
    "collapsed": true,
    "jupyter": {
     "outputs_hidden": true
    },
    "trusted": false
   },
   "outputs": [
    {
     "data": {
      "application/vnd.microsoft.datawrangler.viewer.v0+json": {
       "columns": [
        {
         "name": "index",
         "rawType": "int64",
         "type": "integer"
        },
        {
         "name": "EPA",
         "rawType": "float64",
         "type": "float"
        },
        {
         "name": "airEPA",
         "rawType": "float64",
         "type": "float"
        },
        {
         "name": "yacEPA",
         "rawType": "float64",
         "type": "float"
        },
        {
         "name": "Home_WP_pre",
         "rawType": "float64",
         "type": "float"
        },
        {
         "name": "Away_WP_pre",
         "rawType": "float64",
         "type": "float"
        },
        {
         "name": "Home_WP_post",
         "rawType": "float64",
         "type": "float"
        },
        {
         "name": "Away_WP_post",
         "rawType": "float64",
         "type": "float"
        },
        {
         "name": "Win_Prob",
         "rawType": "float64",
         "type": "float"
        },
        {
         "name": "WPA",
         "rawType": "float64",
         "type": "float"
        },
        {
         "name": "airWPA",
         "rawType": "float64",
         "type": "float"
        },
        {
         "name": "yacWPA",
         "rawType": "float64",
         "type": "float"
        },
        {
         "name": "Season",
         "rawType": "int64",
         "type": "integer"
        }
       ],
       "conversionMethod": "pd.DataFrame",
       "ref": "eed0069f-34b5-4bdf-9715-e3e0224da5b8",
       "rows": [
        [
         "0",
         "2.014473905391463",
         null,
         null,
         "0.4856749860969135",
         "0.5143250139030865",
         "0.5464328397122977",
         "0.4535671602877023",
         "0.4856749860969135",
         "0.0607578536153842",
         null,
         null,
         "2009"
        ],
        [
         "1",
         "0.0779071580166195",
         "-1.0681686475721817",
         "1.1460758055888012",
         "0.5464328397122977",
         "0.4535671602877023",
         "0.5510878171614882",
         "0.4489121828385117",
         "0.5464328397122977",
         "0.0046549774491905",
         "-0.0322439869661942",
         "0.0368989644153847",
         "2009"
        ],
        [
         "2",
         "-1.4027598314188183",
         null,
         null,
         "0.5510878171614882",
         "0.4489121828385117",
         "0.5107930906986009",
         "0.4892069093013991",
         "0.5510878171614882",
         "-0.0402947264628873",
         null,
         null,
         "2009"
        ],
        [
         "3",
         "-1.7125834938947782",
         "3.3188410883517703",
         "-5.031424582246548",
         "0.5107930906986009",
         "0.4892069093013991",
         "0.4612171140114365",
         "0.5387828859885635",
         "0.5107930906986009",
         "-0.0495759766871644",
         "0.1066625552993268",
         "-0.1562385319864913",
         "2009"
        ],
        [
         "4",
         "2.097795973997438",
         null,
         null,
         "0.4612171140114365",
         "0.5387828859885635",
         "0.5589294012224711",
         "0.4410705987775288",
         "0.4612171140114365",
         "0.0977122872110346",
         null,
         null,
         "2009"
        ]
       ],
       "shape": {
        "columns": 12,
        "rows": 5
       }
      },
      "text/html": [
       "<div>\n",
       "<style scoped>\n",
       "    .dataframe tbody tr th:only-of-type {\n",
       "        vertical-align: middle;\n",
       "    }\n",
       "\n",
       "    .dataframe tbody tr th {\n",
       "        vertical-align: top;\n",
       "    }\n",
       "\n",
       "    .dataframe thead th {\n",
       "        text-align: right;\n",
       "    }\n",
       "</style>\n",
       "<table border=\"1\" class=\"dataframe\">\n",
       "  <thead>\n",
       "    <tr style=\"text-align: right;\">\n",
       "      <th></th>\n",
       "      <th>EPA</th>\n",
       "      <th>airEPA</th>\n",
       "      <th>yacEPA</th>\n",
       "      <th>Home_WP_pre</th>\n",
       "      <th>Away_WP_pre</th>\n",
       "      <th>Home_WP_post</th>\n",
       "      <th>Away_WP_post</th>\n",
       "      <th>Win_Prob</th>\n",
       "      <th>WPA</th>\n",
       "      <th>airWPA</th>\n",
       "      <th>yacWPA</th>\n",
       "      <th>Season</th>\n",
       "    </tr>\n",
       "  </thead>\n",
       "  <tbody>\n",
       "    <tr>\n",
       "      <th>0</th>\n",
       "      <td>2.014474</td>\n",
       "      <td>NaN</td>\n",
       "      <td>NaN</td>\n",
       "      <td>0.485675</td>\n",
       "      <td>0.514325</td>\n",
       "      <td>0.546433</td>\n",
       "      <td>0.453567</td>\n",
       "      <td>0.485675</td>\n",
       "      <td>0.060758</td>\n",
       "      <td>NaN</td>\n",
       "      <td>NaN</td>\n",
       "      <td>2009</td>\n",
       "    </tr>\n",
       "    <tr>\n",
       "      <th>1</th>\n",
       "      <td>0.077907</td>\n",
       "      <td>-1.068169</td>\n",
       "      <td>1.146076</td>\n",
       "      <td>0.546433</td>\n",
       "      <td>0.453567</td>\n",
       "      <td>0.551088</td>\n",
       "      <td>0.448912</td>\n",
       "      <td>0.546433</td>\n",
       "      <td>0.004655</td>\n",
       "      <td>-0.032244</td>\n",
       "      <td>0.036899</td>\n",
       "      <td>2009</td>\n",
       "    </tr>\n",
       "    <tr>\n",
       "      <th>2</th>\n",
       "      <td>-1.402760</td>\n",
       "      <td>NaN</td>\n",
       "      <td>NaN</td>\n",
       "      <td>0.551088</td>\n",
       "      <td>0.448912</td>\n",
       "      <td>0.510793</td>\n",
       "      <td>0.489207</td>\n",
       "      <td>0.551088</td>\n",
       "      <td>-0.040295</td>\n",
       "      <td>NaN</td>\n",
       "      <td>NaN</td>\n",
       "      <td>2009</td>\n",
       "    </tr>\n",
       "    <tr>\n",
       "      <th>3</th>\n",
       "      <td>-1.712583</td>\n",
       "      <td>3.318841</td>\n",
       "      <td>-5.031425</td>\n",
       "      <td>0.510793</td>\n",
       "      <td>0.489207</td>\n",
       "      <td>0.461217</td>\n",
       "      <td>0.538783</td>\n",
       "      <td>0.510793</td>\n",
       "      <td>-0.049576</td>\n",
       "      <td>0.106663</td>\n",
       "      <td>-0.156239</td>\n",
       "      <td>2009</td>\n",
       "    </tr>\n",
       "    <tr>\n",
       "      <th>4</th>\n",
       "      <td>2.097796</td>\n",
       "      <td>NaN</td>\n",
       "      <td>NaN</td>\n",
       "      <td>0.461217</td>\n",
       "      <td>0.538783</td>\n",
       "      <td>0.558929</td>\n",
       "      <td>0.441071</td>\n",
       "      <td>0.461217</td>\n",
       "      <td>0.097712</td>\n",
       "      <td>NaN</td>\n",
       "      <td>NaN</td>\n",
       "      <td>2009</td>\n",
       "    </tr>\n",
       "  </tbody>\n",
       "</table>\n",
       "</div>"
      ],
      "text/plain": [
       "        EPA    airEPA    yacEPA  Home_WP_pre  Away_WP_pre  Home_WP_post  \\\n",
       "0  2.014474       NaN       NaN     0.485675     0.514325      0.546433   \n",
       "1  0.077907 -1.068169  1.146076     0.546433     0.453567      0.551088   \n",
       "2 -1.402760       NaN       NaN     0.551088     0.448912      0.510793   \n",
       "3 -1.712583  3.318841 -5.031425     0.510793     0.489207      0.461217   \n",
       "4  2.097796       NaN       NaN     0.461217     0.538783      0.558929   \n",
       "\n",
       "   Away_WP_post  Win_Prob       WPA    airWPA    yacWPA  Season  \n",
       "0      0.453567  0.485675  0.060758       NaN       NaN    2009  \n",
       "1      0.448912  0.546433  0.004655 -0.032244  0.036899    2009  \n",
       "2      0.489207  0.551088 -0.040295       NaN       NaN    2009  \n",
       "3      0.538783  0.510793 -0.049576  0.106663 -0.156239    2009  \n",
       "4      0.441071  0.461217  0.097712       NaN       NaN    2009  "
      ]
     },
     "execution_count": 45,
     "metadata": {},
     "output_type": "execute_result"
    }
   ],
   "source": [
    "# get a small subset of the NFL dataset\n",
    "subset_nfl_data = nfl_data.loc[:, 'EPA':'Season'].head()\n",
    "subset_nfl_data"
   ]
  },
  {
   "cell_type": "markdown",
   "metadata": {
    "_cell_guid": "527c8703-4b29-459d-af7d-5505da36016b",
    "_uuid": "f8cfe916904af3265d8ecc4f791f9f62e34ff458"
   },
   "source": [
    "We can use the Panda's fillna() function to fill in missing values in a dataframe for us. One option we have is to specify what we want the `NaN` values to be replaced with. Here, I'm saying that I would like to replace all the `NaN` values with 0."
   ]
  },
  {
   "cell_type": "code",
   "execution_count": 46,
   "metadata": {
    "_cell_guid": "c01ed989-8901-43c8-afa3-6ca36605dfb5",
    "_uuid": "77eac530ce398b8c13eb7886f86bce48fd997f34",
    "collapsed": true,
    "jupyter": {
     "outputs_hidden": true
    },
    "trusted": false
   },
   "outputs": [
    {
     "data": {
      "application/vnd.microsoft.datawrangler.viewer.v0+json": {
       "columns": [
        {
         "name": "index",
         "rawType": "int64",
         "type": "integer"
        },
        {
         "name": "EPA",
         "rawType": "float64",
         "type": "float"
        },
        {
         "name": "airEPA",
         "rawType": "float64",
         "type": "float"
        },
        {
         "name": "yacEPA",
         "rawType": "float64",
         "type": "float"
        },
        {
         "name": "Home_WP_pre",
         "rawType": "float64",
         "type": "float"
        },
        {
         "name": "Away_WP_pre",
         "rawType": "float64",
         "type": "float"
        },
        {
         "name": "Home_WP_post",
         "rawType": "float64",
         "type": "float"
        },
        {
         "name": "Away_WP_post",
         "rawType": "float64",
         "type": "float"
        },
        {
         "name": "Win_Prob",
         "rawType": "float64",
         "type": "float"
        },
        {
         "name": "WPA",
         "rawType": "float64",
         "type": "float"
        },
        {
         "name": "airWPA",
         "rawType": "float64",
         "type": "float"
        },
        {
         "name": "yacWPA",
         "rawType": "float64",
         "type": "float"
        },
        {
         "name": "Season",
         "rawType": "int64",
         "type": "integer"
        }
       ],
       "conversionMethod": "pd.DataFrame",
       "ref": "32f93ce1-0479-40ef-940c-d8db3ade82ee",
       "rows": [
        [
         "0",
         "2.014473905391463",
         "0.0",
         "0.0",
         "0.4856749860969135",
         "0.5143250139030865",
         "0.5464328397122977",
         "0.4535671602877023",
         "0.4856749860969135",
         "0.0607578536153842",
         "0.0",
         "0.0",
         "2009"
        ],
        [
         "1",
         "0.0779071580166195",
         "-1.0681686475721817",
         "1.1460758055888012",
         "0.5464328397122977",
         "0.4535671602877023",
         "0.5510878171614882",
         "0.4489121828385117",
         "0.5464328397122977",
         "0.0046549774491905",
         "-0.0322439869661942",
         "0.0368989644153847",
         "2009"
        ],
        [
         "2",
         "-1.4027598314188183",
         "0.0",
         "0.0",
         "0.5510878171614882",
         "0.4489121828385117",
         "0.5107930906986009",
         "0.4892069093013991",
         "0.5510878171614882",
         "-0.0402947264628873",
         "0.0",
         "0.0",
         "2009"
        ],
        [
         "3",
         "-1.7125834938947782",
         "3.3188410883517703",
         "-5.031424582246548",
         "0.5107930906986009",
         "0.4892069093013991",
         "0.4612171140114365",
         "0.5387828859885635",
         "0.5107930906986009",
         "-0.0495759766871644",
         "0.1066625552993268",
         "-0.1562385319864913",
         "2009"
        ],
        [
         "4",
         "2.097795973997438",
         "0.0",
         "0.0",
         "0.4612171140114365",
         "0.5387828859885635",
         "0.5589294012224711",
         "0.4410705987775288",
         "0.4612171140114365",
         "0.0977122872110346",
         "0.0",
         "0.0",
         "2009"
        ]
       ],
       "shape": {
        "columns": 12,
        "rows": 5
       }
      },
      "text/html": [
       "<div>\n",
       "<style scoped>\n",
       "    .dataframe tbody tr th:only-of-type {\n",
       "        vertical-align: middle;\n",
       "    }\n",
       "\n",
       "    .dataframe tbody tr th {\n",
       "        vertical-align: top;\n",
       "    }\n",
       "\n",
       "    .dataframe thead th {\n",
       "        text-align: right;\n",
       "    }\n",
       "</style>\n",
       "<table border=\"1\" class=\"dataframe\">\n",
       "  <thead>\n",
       "    <tr style=\"text-align: right;\">\n",
       "      <th></th>\n",
       "      <th>EPA</th>\n",
       "      <th>airEPA</th>\n",
       "      <th>yacEPA</th>\n",
       "      <th>Home_WP_pre</th>\n",
       "      <th>Away_WP_pre</th>\n",
       "      <th>Home_WP_post</th>\n",
       "      <th>Away_WP_post</th>\n",
       "      <th>Win_Prob</th>\n",
       "      <th>WPA</th>\n",
       "      <th>airWPA</th>\n",
       "      <th>yacWPA</th>\n",
       "      <th>Season</th>\n",
       "    </tr>\n",
       "  </thead>\n",
       "  <tbody>\n",
       "    <tr>\n",
       "      <th>0</th>\n",
       "      <td>2.014474</td>\n",
       "      <td>0.000000</td>\n",
       "      <td>0.000000</td>\n",
       "      <td>0.485675</td>\n",
       "      <td>0.514325</td>\n",
       "      <td>0.546433</td>\n",
       "      <td>0.453567</td>\n",
       "      <td>0.485675</td>\n",
       "      <td>0.060758</td>\n",
       "      <td>0.000000</td>\n",
       "      <td>0.000000</td>\n",
       "      <td>2009</td>\n",
       "    </tr>\n",
       "    <tr>\n",
       "      <th>1</th>\n",
       "      <td>0.077907</td>\n",
       "      <td>-1.068169</td>\n",
       "      <td>1.146076</td>\n",
       "      <td>0.546433</td>\n",
       "      <td>0.453567</td>\n",
       "      <td>0.551088</td>\n",
       "      <td>0.448912</td>\n",
       "      <td>0.546433</td>\n",
       "      <td>0.004655</td>\n",
       "      <td>-0.032244</td>\n",
       "      <td>0.036899</td>\n",
       "      <td>2009</td>\n",
       "    </tr>\n",
       "    <tr>\n",
       "      <th>2</th>\n",
       "      <td>-1.402760</td>\n",
       "      <td>0.000000</td>\n",
       "      <td>0.000000</td>\n",
       "      <td>0.551088</td>\n",
       "      <td>0.448912</td>\n",
       "      <td>0.510793</td>\n",
       "      <td>0.489207</td>\n",
       "      <td>0.551088</td>\n",
       "      <td>-0.040295</td>\n",
       "      <td>0.000000</td>\n",
       "      <td>0.000000</td>\n",
       "      <td>2009</td>\n",
       "    </tr>\n",
       "    <tr>\n",
       "      <th>3</th>\n",
       "      <td>-1.712583</td>\n",
       "      <td>3.318841</td>\n",
       "      <td>-5.031425</td>\n",
       "      <td>0.510793</td>\n",
       "      <td>0.489207</td>\n",
       "      <td>0.461217</td>\n",
       "      <td>0.538783</td>\n",
       "      <td>0.510793</td>\n",
       "      <td>-0.049576</td>\n",
       "      <td>0.106663</td>\n",
       "      <td>-0.156239</td>\n",
       "      <td>2009</td>\n",
       "    </tr>\n",
       "    <tr>\n",
       "      <th>4</th>\n",
       "      <td>2.097796</td>\n",
       "      <td>0.000000</td>\n",
       "      <td>0.000000</td>\n",
       "      <td>0.461217</td>\n",
       "      <td>0.538783</td>\n",
       "      <td>0.558929</td>\n",
       "      <td>0.441071</td>\n",
       "      <td>0.461217</td>\n",
       "      <td>0.097712</td>\n",
       "      <td>0.000000</td>\n",
       "      <td>0.000000</td>\n",
       "      <td>2009</td>\n",
       "    </tr>\n",
       "  </tbody>\n",
       "</table>\n",
       "</div>"
      ],
      "text/plain": [
       "        EPA    airEPA    yacEPA  Home_WP_pre  Away_WP_pre  Home_WP_post  \\\n",
       "0  2.014474  0.000000  0.000000     0.485675     0.514325      0.546433   \n",
       "1  0.077907 -1.068169  1.146076     0.546433     0.453567      0.551088   \n",
       "2 -1.402760  0.000000  0.000000     0.551088     0.448912      0.510793   \n",
       "3 -1.712583  3.318841 -5.031425     0.510793     0.489207      0.461217   \n",
       "4  2.097796  0.000000  0.000000     0.461217     0.538783      0.558929   \n",
       "\n",
       "   Away_WP_post  Win_Prob       WPA    airWPA    yacWPA  Season  \n",
       "0      0.453567  0.485675  0.060758  0.000000  0.000000    2009  \n",
       "1      0.448912  0.546433  0.004655 -0.032244  0.036899    2009  \n",
       "2      0.489207  0.551088 -0.040295  0.000000  0.000000    2009  \n",
       "3      0.538783  0.510793 -0.049576  0.106663 -0.156239    2009  \n",
       "4      0.441071  0.461217  0.097712  0.000000  0.000000    2009  "
      ]
     },
     "execution_count": 46,
     "metadata": {},
     "output_type": "execute_result"
    }
   ],
   "source": [
    "# replace all NA's with 0\n",
    "subset_nfl_data.fillna(0)"
   ]
  },
  {
   "cell_type": "markdown",
   "metadata": {
    "_cell_guid": "1103b725-c823-4f40-9bda-e97997856339",
    "_uuid": "bec603202c6bfaae7a49b4a4042f37019ad1d801"
   },
   "source": [
    "I could also be a bit more savvy and replace missing values with whatever value comes directly after it in the same column. (This makes a lot of sense for datasets where the observations have some sort of logical order to them.)"
   ]
  },
  {
   "cell_type": "code",
   "execution_count": 47,
   "metadata": {
    "_cell_guid": "90ddac9b-ee20-492e-b437-0519c97ca317",
    "_uuid": "afba99aa7897539e9a0af77dce03daab94d0ca68",
    "collapsed": true,
    "jupyter": {
     "outputs_hidden": true
    },
    "trusted": false
   },
   "outputs": [
    {
     "name": "stderr",
     "output_type": "stream",
     "text": [
      "/var/folders/tv/tsldvz5n0_7bgsk90mvshqb00000gn/T/ipykernel_42149/1707168699.py:3: FutureWarning: DataFrame.fillna with 'method' is deprecated and will raise in a future version. Use obj.ffill() or obj.bfill() instead.\n",
      "  subset_nfl_data.fillna(method = 'bfill', axis=0).fillna(0)\n"
     ]
    },
    {
     "data": {
      "application/vnd.microsoft.datawrangler.viewer.v0+json": {
       "columns": [
        {
         "name": "index",
         "rawType": "int64",
         "type": "integer"
        },
        {
         "name": "EPA",
         "rawType": "float64",
         "type": "float"
        },
        {
         "name": "airEPA",
         "rawType": "float64",
         "type": "float"
        },
        {
         "name": "yacEPA",
         "rawType": "float64",
         "type": "float"
        },
        {
         "name": "Home_WP_pre",
         "rawType": "float64",
         "type": "float"
        },
        {
         "name": "Away_WP_pre",
         "rawType": "float64",
         "type": "float"
        },
        {
         "name": "Home_WP_post",
         "rawType": "float64",
         "type": "float"
        },
        {
         "name": "Away_WP_post",
         "rawType": "float64",
         "type": "float"
        },
        {
         "name": "Win_Prob",
         "rawType": "float64",
         "type": "float"
        },
        {
         "name": "WPA",
         "rawType": "float64",
         "type": "float"
        },
        {
         "name": "airWPA",
         "rawType": "float64",
         "type": "float"
        },
        {
         "name": "yacWPA",
         "rawType": "float64",
         "type": "float"
        },
        {
         "name": "Season",
         "rawType": "int64",
         "type": "integer"
        }
       ],
       "conversionMethod": "pd.DataFrame",
       "ref": "5aad09a3-85d2-4756-9cf6-b5c03e1ba976",
       "rows": [
        [
         "0",
         "2.014473905391463",
         "-1.0681686475721817",
         "1.1460758055888012",
         "0.4856749860969135",
         "0.5143250139030865",
         "0.5464328397122977",
         "0.4535671602877023",
         "0.4856749860969135",
         "0.0607578536153842",
         "-0.0322439869661942",
         "0.0368989644153847",
         "2009"
        ],
        [
         "1",
         "0.0779071580166195",
         "-1.0681686475721817",
         "1.1460758055888012",
         "0.5464328397122977",
         "0.4535671602877023",
         "0.5510878171614882",
         "0.4489121828385117",
         "0.5464328397122977",
         "0.0046549774491905",
         "-0.0322439869661942",
         "0.0368989644153847",
         "2009"
        ],
        [
         "2",
         "-1.4027598314188183",
         "3.3188410883517703",
         "-5.031424582246548",
         "0.5510878171614882",
         "0.4489121828385117",
         "0.5107930906986009",
         "0.4892069093013991",
         "0.5510878171614882",
         "-0.0402947264628873",
         "0.1066625552993268",
         "-0.1562385319864913",
         "2009"
        ],
        [
         "3",
         "-1.7125834938947782",
         "3.3188410883517703",
         "-5.031424582246548",
         "0.5107930906986009",
         "0.4892069093013991",
         "0.4612171140114365",
         "0.5387828859885635",
         "0.5107930906986009",
         "-0.0495759766871644",
         "0.1066625552993268",
         "-0.1562385319864913",
         "2009"
        ],
        [
         "4",
         "2.097795973997438",
         "0.0",
         "0.0",
         "0.4612171140114365",
         "0.5387828859885635",
         "0.5589294012224711",
         "0.4410705987775288",
         "0.4612171140114365",
         "0.0977122872110346",
         "0.0",
         "0.0",
         "2009"
        ]
       ],
       "shape": {
        "columns": 12,
        "rows": 5
       }
      },
      "text/html": [
       "<div>\n",
       "<style scoped>\n",
       "    .dataframe tbody tr th:only-of-type {\n",
       "        vertical-align: middle;\n",
       "    }\n",
       "\n",
       "    .dataframe tbody tr th {\n",
       "        vertical-align: top;\n",
       "    }\n",
       "\n",
       "    .dataframe thead th {\n",
       "        text-align: right;\n",
       "    }\n",
       "</style>\n",
       "<table border=\"1\" class=\"dataframe\">\n",
       "  <thead>\n",
       "    <tr style=\"text-align: right;\">\n",
       "      <th></th>\n",
       "      <th>EPA</th>\n",
       "      <th>airEPA</th>\n",
       "      <th>yacEPA</th>\n",
       "      <th>Home_WP_pre</th>\n",
       "      <th>Away_WP_pre</th>\n",
       "      <th>Home_WP_post</th>\n",
       "      <th>Away_WP_post</th>\n",
       "      <th>Win_Prob</th>\n",
       "      <th>WPA</th>\n",
       "      <th>airWPA</th>\n",
       "      <th>yacWPA</th>\n",
       "      <th>Season</th>\n",
       "    </tr>\n",
       "  </thead>\n",
       "  <tbody>\n",
       "    <tr>\n",
       "      <th>0</th>\n",
       "      <td>2.014474</td>\n",
       "      <td>-1.068169</td>\n",
       "      <td>1.146076</td>\n",
       "      <td>0.485675</td>\n",
       "      <td>0.514325</td>\n",
       "      <td>0.546433</td>\n",
       "      <td>0.453567</td>\n",
       "      <td>0.485675</td>\n",
       "      <td>0.060758</td>\n",
       "      <td>-0.032244</td>\n",
       "      <td>0.036899</td>\n",
       "      <td>2009</td>\n",
       "    </tr>\n",
       "    <tr>\n",
       "      <th>1</th>\n",
       "      <td>0.077907</td>\n",
       "      <td>-1.068169</td>\n",
       "      <td>1.146076</td>\n",
       "      <td>0.546433</td>\n",
       "      <td>0.453567</td>\n",
       "      <td>0.551088</td>\n",
       "      <td>0.448912</td>\n",
       "      <td>0.546433</td>\n",
       "      <td>0.004655</td>\n",
       "      <td>-0.032244</td>\n",
       "      <td>0.036899</td>\n",
       "      <td>2009</td>\n",
       "    </tr>\n",
       "    <tr>\n",
       "      <th>2</th>\n",
       "      <td>-1.402760</td>\n",
       "      <td>3.318841</td>\n",
       "      <td>-5.031425</td>\n",
       "      <td>0.551088</td>\n",
       "      <td>0.448912</td>\n",
       "      <td>0.510793</td>\n",
       "      <td>0.489207</td>\n",
       "      <td>0.551088</td>\n",
       "      <td>-0.040295</td>\n",
       "      <td>0.106663</td>\n",
       "      <td>-0.156239</td>\n",
       "      <td>2009</td>\n",
       "    </tr>\n",
       "    <tr>\n",
       "      <th>3</th>\n",
       "      <td>-1.712583</td>\n",
       "      <td>3.318841</td>\n",
       "      <td>-5.031425</td>\n",
       "      <td>0.510793</td>\n",
       "      <td>0.489207</td>\n",
       "      <td>0.461217</td>\n",
       "      <td>0.538783</td>\n",
       "      <td>0.510793</td>\n",
       "      <td>-0.049576</td>\n",
       "      <td>0.106663</td>\n",
       "      <td>-0.156239</td>\n",
       "      <td>2009</td>\n",
       "    </tr>\n",
       "    <tr>\n",
       "      <th>4</th>\n",
       "      <td>2.097796</td>\n",
       "      <td>0.000000</td>\n",
       "      <td>0.000000</td>\n",
       "      <td>0.461217</td>\n",
       "      <td>0.538783</td>\n",
       "      <td>0.558929</td>\n",
       "      <td>0.441071</td>\n",
       "      <td>0.461217</td>\n",
       "      <td>0.097712</td>\n",
       "      <td>0.000000</td>\n",
       "      <td>0.000000</td>\n",
       "      <td>2009</td>\n",
       "    </tr>\n",
       "  </tbody>\n",
       "</table>\n",
       "</div>"
      ],
      "text/plain": [
       "        EPA    airEPA    yacEPA  Home_WP_pre  Away_WP_pre  Home_WP_post  \\\n",
       "0  2.014474 -1.068169  1.146076     0.485675     0.514325      0.546433   \n",
       "1  0.077907 -1.068169  1.146076     0.546433     0.453567      0.551088   \n",
       "2 -1.402760  3.318841 -5.031425     0.551088     0.448912      0.510793   \n",
       "3 -1.712583  3.318841 -5.031425     0.510793     0.489207      0.461217   \n",
       "4  2.097796  0.000000  0.000000     0.461217     0.538783      0.558929   \n",
       "\n",
       "   Away_WP_post  Win_Prob       WPA    airWPA    yacWPA  Season  \n",
       "0      0.453567  0.485675  0.060758 -0.032244  0.036899    2009  \n",
       "1      0.448912  0.546433  0.004655 -0.032244  0.036899    2009  \n",
       "2      0.489207  0.551088 -0.040295  0.106663 -0.156239    2009  \n",
       "3      0.538783  0.510793 -0.049576  0.106663 -0.156239    2009  \n",
       "4      0.441071  0.461217  0.097712  0.000000  0.000000    2009  "
      ]
     },
     "execution_count": 47,
     "metadata": {},
     "output_type": "execute_result"
    }
   ],
   "source": [
    "# replace all NA's the value that comes directly after it in the same column, \n",
    "# then replace all the reamining na's with 0\n",
    "subset_nfl_data.fillna(method = 'bfill', axis=0).fillna(0)"
   ]
  },
  {
   "cell_type": "markdown",
   "metadata": {
    "_cell_guid": "980e5d67-7e9c-41a3-b17e-51d87e9da9cf",
    "_uuid": "1f8ac8b52f2933612e315f06a53185e164e6c5bc"
   },
   "source": [
    "Filling in missing values is also known as \"imputation\", and you can find more exercises on it [in this lesson, also linked under the \"More practice!\" section](https://www.kaggle.com/dansbecker/handling-missing-values). First, however, why don't you try replacing some of the missing values in the sf_permit dataset?"
   ]
  },
  {
   "cell_type": "code",
   "execution_count": null,
   "metadata": {
    "_cell_guid": "da426397-7e17-40ce-a0d4-ca6d39e47498",
    "_uuid": "f7d403c19eaf31ee0a4e04b9e1119eda96a9f95c",
    "collapsed": true,
    "jupyter": {
     "outputs_hidden": true
    },
    "trusted": false
   },
   "outputs": [
    {
     "data": {
      "application/vnd.microsoft.datawrangler.viewer.v0+json": {
       "columns": [
        {
         "name": "index",
         "rawType": "int64",
         "type": "integer"
        },
        {
         "name": "Permit Number",
         "rawType": "object",
         "type": "string"
        },
        {
         "name": "Permit Type",
         "rawType": "int64",
         "type": "integer"
        },
        {
         "name": "Permit Type Definition",
         "rawType": "object",
         "type": "string"
        },
        {
         "name": "Permit Creation Date",
         "rawType": "object",
         "type": "string"
        },
        {
         "name": "Block",
         "rawType": "object",
         "type": "string"
        },
        {
         "name": "Lot",
         "rawType": "object",
         "type": "string"
        },
        {
         "name": "Street Number",
         "rawType": "int64",
         "type": "integer"
        },
        {
         "name": "Street Number Suffix",
         "rawType": "object",
         "type": "unknown"
        },
        {
         "name": "Street Name",
         "rawType": "object",
         "type": "string"
        },
        {
         "name": "Street Suffix",
         "rawType": "object",
         "type": "string"
        },
        {
         "name": "Unit",
         "rawType": "float64",
         "type": "float"
        },
        {
         "name": "Unit Suffix",
         "rawType": "object",
         "type": "unknown"
        },
        {
         "name": "Description",
         "rawType": "object",
         "type": "string"
        },
        {
         "name": "Current Status",
         "rawType": "object",
         "type": "string"
        },
        {
         "name": "Current Status Date",
         "rawType": "object",
         "type": "string"
        },
        {
         "name": "Filed Date",
         "rawType": "object",
         "type": "string"
        },
        {
         "name": "Issued Date",
         "rawType": "object",
         "type": "unknown"
        },
        {
         "name": "Completed Date",
         "rawType": "object",
         "type": "unknown"
        },
        {
         "name": "First Construction Document Date",
         "rawType": "object",
         "type": "unknown"
        },
        {
         "name": "Structural Notification",
         "rawType": "object",
         "type": "unknown"
        },
        {
         "name": "Number of Existing Stories",
         "rawType": "float64",
         "type": "float"
        },
        {
         "name": "Number of Proposed Stories",
         "rawType": "float64",
         "type": "float"
        },
        {
         "name": "Voluntary Soft-Story Retrofit",
         "rawType": "object",
         "type": "unknown"
        },
        {
         "name": "Fire Only Permit",
         "rawType": "object",
         "type": "unknown"
        },
        {
         "name": "Permit Expiration Date",
         "rawType": "object",
         "type": "unknown"
        },
        {
         "name": "Estimated Cost",
         "rawType": "float64",
         "type": "float"
        },
        {
         "name": "Revised Cost",
         "rawType": "float64",
         "type": "float"
        },
        {
         "name": "Existing Use",
         "rawType": "object",
         "type": "unknown"
        },
        {
         "name": "Existing Units",
         "rawType": "float64",
         "type": "float"
        },
        {
         "name": "Proposed Use",
         "rawType": "object",
         "type": "unknown"
        },
        {
         "name": "Proposed Units",
         "rawType": "float64",
         "type": "float"
        },
        {
         "name": "Plansets",
         "rawType": "float64",
         "type": "float"
        },
        {
         "name": "TIDF Compliance",
         "rawType": "object",
         "type": "unknown"
        },
        {
         "name": "Existing Construction Type",
         "rawType": "float64",
         "type": "float"
        },
        {
         "name": "Existing Construction Type Description",
         "rawType": "object",
         "type": "unknown"
        },
        {
         "name": "Proposed Construction Type",
         "rawType": "float64",
         "type": "float"
        },
        {
         "name": "Proposed Construction Type Description",
         "rawType": "object",
         "type": "unknown"
        },
        {
         "name": "Site Permit",
         "rawType": "object",
         "type": "unknown"
        },
        {
         "name": "Supervisor District",
         "rawType": "float64",
         "type": "float"
        },
        {
         "name": "Neighborhoods - Analysis Boundaries",
         "rawType": "object",
         "type": "string"
        },
        {
         "name": "Zipcode",
         "rawType": "float64",
         "type": "float"
        },
        {
         "name": "Location",
         "rawType": "object",
         "type": "string"
        },
        {
         "name": "Record ID",
         "rawType": "int64",
         "type": "integer"
        }
       ],
       "conversionMethod": "pd.DataFrame",
       "ref": "66b8d430-247a-4830-95a9-86ac5570dfbe",
       "rows": [
        [
         "43943",
         "201404042459",
         "8",
         "otc alterations permit",
         "04/04/2014",
         "3717",
         "020",
         "180",
         null,
         "Howard",
         "St",
         null,
         null,
         "tenant improvement to 12th tl. provide and install 1 duct smoke with relay and test switch, 1 strobe, 3 speaker strobes. 1 relay with slave relay . ref 201312265027. compliance with ordinance #155-13 not required.",
         "complete",
         "05/28/2014",
         "04/04/2014",
         "04/04/2014",
         "05/28/2014",
         "04/04/2014",
         null,
         "12.0",
         "12.0",
         null,
         "Y",
         "03/30/2015",
         "4200.0",
         "4200.0",
         "office",
         "0.0",
         "office",
         "0.0",
         "2.0",
         null,
         "1.0",
         "constr type 1",
         "1.0",
         "constr type 1",
         null,
         "6.0",
         "Financial District/South Beach",
         "94105.0",
         "(37.79103704563755, -122.39339256466593)",
         "1337632164641"
        ],
        [
         "27703",
         "M434527",
         "8",
         "otc alterations permit",
         "10/11/2013",
         "0348",
         "015",
         "277",
         null,
         "Golden Gate",
         "Av",
         "0.0",
         null,
         "street space permit",
         "issued",
         "10/11/2013",
         "10/11/2013",
         "10/11/2013",
         null,
         "10/11/2013",
         null,
         null,
         null,
         null,
         null,
         null,
         null,
         "1.0",
         null,
         null,
         null,
         null,
         null,
         null,
         null,
         null,
         null,
         null,
         null,
         "6.0",
         "Tenderloin",
         "94102.0",
         "(37.781433365757565, -122.41487518938789)",
         "1320626301305"
        ],
        [
         "28325",
         "201310189648",
         "8",
         "otc alterations permit",
         "10/18/2013",
         "0293",
         "002",
         "153",
         null,
         "Kearny",
         "St",
         null,
         null,
         "remove rust from roof beam, approx 5' below parapet on west side lightwell & on beam 2' below parapet on south wall. treat beams with corrison inhabitor. rebuild in kind. attach plate to underside of south wall beam",
         "complete",
         "12/20/2013",
         "10/18/2013",
         "10/18/2013",
         "12/20/2013",
         "10/18/2013",
         null,
         "6.0",
         "6.0",
         null,
         null,
         "10/13/2014",
         "64000.0",
         "64000.0",
         "office",
         "0.0",
         "office",
         "0.0",
         "2.0",
         null,
         "2.0",
         "constr type 2",
         "2.0",
         "constr type 2",
         null,
         "3.0",
         "Financial District/South Beach",
         "94108.0",
         "(37.789494522433245, -122.40409875138413)",
         "132127667116"
        ],
        [
         "186032",
         "201710161344",
         "8",
         "otc alterations permit",
         "10/16/2017",
         "5668",
         "036",
         "252",
         null,
         "Bocana",
         "St",
         null,
         null,
         "remove & replace 10 windows. window replacement 4 street facing in kind with aluminum clad double hung windows, 5 rear will be fiberglass. no change from (e) opening.",
         "issued",
         "11/15/2017",
         "10/16/2017",
         "11/15/2017",
         null,
         "11/15/2017",
         null,
         "1.0",
         "1.0",
         null,
         null,
         "05/15/2018",
         "16806.0",
         "16806.0",
         "1 family dwelling",
         "1.0",
         "1 family dwelling",
         "1.0",
         "0.0",
         null,
         "5.0",
         "wood frame (5)",
         "5.0",
         "wood frame (5)",
         null,
         "9.0",
         "Bernal Heights",
         "94110.0",
         "(37.73976205873759, -122.41852829389565)",
         "1483507186394"
        ],
        [
         "3152",
         "201301319234",
         "8",
         "otc alterations permit",
         "01/31/2013",
         "0295",
         "006",
         "360",
         null,
         "Post",
         "St",
         null,
         null,
         "to obtain a final inspection for work approved under pa# 200509304378, all work is complete.",
         "complete",
         "03/05/2013",
         "01/31/2013",
         "01/31/2013",
         "03/05/2013",
         "01/31/2013",
         null,
         "12.0",
         "12.0",
         null,
         null,
         "01/26/2014",
         "1.0",
         "1.0",
         "retail sales",
         "0.0",
         "retail sales",
         "0.0",
         "0.0",
         null,
         "2.0",
         "constr type 2",
         "2.0",
         "constr type 2",
         null,
         "3.0",
         "Financial District/South Beach",
         "94108.0",
         "(37.788672673732066, -122.40766264909458)",
         "1294895349577"
        ],
        [
         "148825",
         "M758047",
         "8",
         "otc alterations permit",
         "02/02/2017",
         "0321",
         "039",
         "666",
         null,
         "Ellis",
         "St",
         null,
         null,
         "street space permit",
         "issued",
         "02/02/2017",
         "02/02/2017",
         "02/02/2017",
         null,
         "02/02/2017",
         null,
         null,
         null,
         null,
         null,
         null,
         null,
         "1.0",
         null,
         null,
         null,
         null,
         null,
         null,
         null,
         null,
         null,
         null,
         null,
         "6.0",
         "Tenderloin",
         "94109.0",
         "(37.78458804160961, -122.4172393161285)",
         "1452070233893"
        ],
        [
         "158935",
         "M795147",
         "8",
         "otc alterations permit",
         "06/08/2017",
         "2116",
         "003",
         "1939",
         null,
         "18th",
         "Av",
         null,
         null,
         "street space",
         "issued",
         "06/08/2017",
         "06/08/2017",
         "06/08/2017",
         null,
         "06/08/2017",
         null,
         null,
         null,
         null,
         null,
         null,
         null,
         "1.0",
         null,
         null,
         null,
         null,
         null,
         null,
         null,
         null,
         null,
         null,
         null,
         "7.0",
         "Inner Sunset",
         "94116.0",
         "(37.75164948767546, -122.4755169252058)",
         "1466257126385"
        ],
        [
         "86906",
         "201505277260",
         "8",
         "otc alterations permit",
         "05/27/2015",
         "2806",
         "033",
         "201",
         "A",
         "Hoffman",
         "Av",
         null,
         null,
         "to comply with physical inspection report cc - 7866",
         "complete",
         "06/08/2015",
         "05/27/2015",
         "05/27/2015",
         "06/08/2015",
         "05/27/2015",
         null,
         "2.0",
         "2.0",
         null,
         null,
         "05/21/2016",
         "16000.0",
         "16000.0",
         "apartments",
         "4.0",
         "apartments",
         "4.0",
         "0.0",
         null,
         "5.0",
         "wood frame (5)",
         "5.0",
         "wood frame (5)",
         null,
         "8.0",
         "Noe Valley",
         "94114.0",
         "(37.75238895435078, -122.44051411184059)",
         "1382921453178"
        ],
        [
         "175038",
         "201702149329",
         "8",
         "otc alterations permit",
         "02/14/2017",
         "3727",
         "091",
         "1125",
         null,
         "Mission",
         "St",
         null,
         null,
         "1st flr: add 4 new upright sprinklers relocate 6. ref 201612074405  maher na",
         "complete",
         "10/10/2017",
         "02/14/2017",
         "02/14/2017",
         "10/10/2017",
         "02/14/2017",
         null,
         "2.0",
         "2.0",
         null,
         "Y",
         "02/09/2018",
         "3500.0",
         "3500.0",
         "office",
         "0.0",
         "office",
         "0.0",
         "2.0",
         null,
         "3.0",
         "constr type 3",
         "3.0",
         "constr type 3",
         null,
         "6.0",
         "South of Market",
         "94103.0",
         "(37.77848221901445, -122.41125995164383)",
         "1453226165047"
        ],
        [
         "166743",
         "201708255959",
         "8",
         "otc alterations permit",
         "08/25/2017",
         "0779",
         "021",
         "1291",
         null,
         "Mcallister",
         "St",
         null,
         null,
         "to comply with sf soft story seismic retrofit program sfebc chapter f4 per 2016 cebc appendix chatper a-4.",
         "filed",
         "08/25/2017",
         "08/25/2017",
         null,
         null,
         null,
         null,
         "3.0",
         "3.0",
         null,
         null,
         null,
         "70000.0",
         "0.0",
         "apartments",
         "9.0",
         "apartments",
         "9.0",
         "2.0",
         null,
         "5.0",
         "wood frame (5)",
         "5.0",
         "wood frame (5)",
         null,
         "5.0",
         "Western Addition",
         "94117.0",
         "(37.778253037148495, -122.43303180744863)",
         "1476193271772"
        ]
       ],
       "shape": {
        "columns": 43,
        "rows": 10
       }
      },
      "text/html": [
       "<div>\n",
       "<style scoped>\n",
       "    .dataframe tbody tr th:only-of-type {\n",
       "        vertical-align: middle;\n",
       "    }\n",
       "\n",
       "    .dataframe tbody tr th {\n",
       "        vertical-align: top;\n",
       "    }\n",
       "\n",
       "    .dataframe thead th {\n",
       "        text-align: right;\n",
       "    }\n",
       "</style>\n",
       "<table border=\"1\" class=\"dataframe\">\n",
       "  <thead>\n",
       "    <tr style=\"text-align: right;\">\n",
       "      <th></th>\n",
       "      <th>Permit Number</th>\n",
       "      <th>Permit Type</th>\n",
       "      <th>Permit Type Definition</th>\n",
       "      <th>Permit Creation Date</th>\n",
       "      <th>Block</th>\n",
       "      <th>Lot</th>\n",
       "      <th>Street Number</th>\n",
       "      <th>Street Number Suffix</th>\n",
       "      <th>Street Name</th>\n",
       "      <th>Street Suffix</th>\n",
       "      <th>...</th>\n",
       "      <th>Existing Construction Type</th>\n",
       "      <th>Existing Construction Type Description</th>\n",
       "      <th>Proposed Construction Type</th>\n",
       "      <th>Proposed Construction Type Description</th>\n",
       "      <th>Site Permit</th>\n",
       "      <th>Supervisor District</th>\n",
       "      <th>Neighborhoods - Analysis Boundaries</th>\n",
       "      <th>Zipcode</th>\n",
       "      <th>Location</th>\n",
       "      <th>Record ID</th>\n",
       "    </tr>\n",
       "  </thead>\n",
       "  <tbody>\n",
       "    <tr>\n",
       "      <th>43943</th>\n",
       "      <td>201404042459</td>\n",
       "      <td>8</td>\n",
       "      <td>otc alterations permit</td>\n",
       "      <td>04/04/2014</td>\n",
       "      <td>3717</td>\n",
       "      <td>020</td>\n",
       "      <td>180</td>\n",
       "      <td>NaN</td>\n",
       "      <td>Howard</td>\n",
       "      <td>St</td>\n",
       "      <td>...</td>\n",
       "      <td>1.0</td>\n",
       "      <td>constr type 1</td>\n",
       "      <td>1.0</td>\n",
       "      <td>constr type 1</td>\n",
       "      <td>NaN</td>\n",
       "      <td>6.0</td>\n",
       "      <td>Financial District/South Beach</td>\n",
       "      <td>94105.0</td>\n",
       "      <td>(37.79103704563755, -122.39339256466593)</td>\n",
       "      <td>1337632164641</td>\n",
       "    </tr>\n",
       "    <tr>\n",
       "      <th>27703</th>\n",
       "      <td>M434527</td>\n",
       "      <td>8</td>\n",
       "      <td>otc alterations permit</td>\n",
       "      <td>10/11/2013</td>\n",
       "      <td>0348</td>\n",
       "      <td>015</td>\n",
       "      <td>277</td>\n",
       "      <td>NaN</td>\n",
       "      <td>Golden Gate</td>\n",
       "      <td>Av</td>\n",
       "      <td>...</td>\n",
       "      <td>NaN</td>\n",
       "      <td>NaN</td>\n",
       "      <td>NaN</td>\n",
       "      <td>NaN</td>\n",
       "      <td>NaN</td>\n",
       "      <td>6.0</td>\n",
       "      <td>Tenderloin</td>\n",
       "      <td>94102.0</td>\n",
       "      <td>(37.781433365757565, -122.41487518938789)</td>\n",
       "      <td>1320626301305</td>\n",
       "    </tr>\n",
       "    <tr>\n",
       "      <th>28325</th>\n",
       "      <td>201310189648</td>\n",
       "      <td>8</td>\n",
       "      <td>otc alterations permit</td>\n",
       "      <td>10/18/2013</td>\n",
       "      <td>0293</td>\n",
       "      <td>002</td>\n",
       "      <td>153</td>\n",
       "      <td>NaN</td>\n",
       "      <td>Kearny</td>\n",
       "      <td>St</td>\n",
       "      <td>...</td>\n",
       "      <td>2.0</td>\n",
       "      <td>constr type 2</td>\n",
       "      <td>2.0</td>\n",
       "      <td>constr type 2</td>\n",
       "      <td>NaN</td>\n",
       "      <td>3.0</td>\n",
       "      <td>Financial District/South Beach</td>\n",
       "      <td>94108.0</td>\n",
       "      <td>(37.789494522433245, -122.40409875138413)</td>\n",
       "      <td>132127667116</td>\n",
       "    </tr>\n",
       "    <tr>\n",
       "      <th>186032</th>\n",
       "      <td>201710161344</td>\n",
       "      <td>8</td>\n",
       "      <td>otc alterations permit</td>\n",
       "      <td>10/16/2017</td>\n",
       "      <td>5668</td>\n",
       "      <td>036</td>\n",
       "      <td>252</td>\n",
       "      <td>NaN</td>\n",
       "      <td>Bocana</td>\n",
       "      <td>St</td>\n",
       "      <td>...</td>\n",
       "      <td>5.0</td>\n",
       "      <td>wood frame (5)</td>\n",
       "      <td>5.0</td>\n",
       "      <td>wood frame (5)</td>\n",
       "      <td>NaN</td>\n",
       "      <td>9.0</td>\n",
       "      <td>Bernal Heights</td>\n",
       "      <td>94110.0</td>\n",
       "      <td>(37.73976205873759, -122.41852829389565)</td>\n",
       "      <td>1483507186394</td>\n",
       "    </tr>\n",
       "    <tr>\n",
       "      <th>3152</th>\n",
       "      <td>201301319234</td>\n",
       "      <td>8</td>\n",
       "      <td>otc alterations permit</td>\n",
       "      <td>01/31/2013</td>\n",
       "      <td>0295</td>\n",
       "      <td>006</td>\n",
       "      <td>360</td>\n",
       "      <td>NaN</td>\n",
       "      <td>Post</td>\n",
       "      <td>St</td>\n",
       "      <td>...</td>\n",
       "      <td>2.0</td>\n",
       "      <td>constr type 2</td>\n",
       "      <td>2.0</td>\n",
       "      <td>constr type 2</td>\n",
       "      <td>NaN</td>\n",
       "      <td>3.0</td>\n",
       "      <td>Financial District/South Beach</td>\n",
       "      <td>94108.0</td>\n",
       "      <td>(37.788672673732066, -122.40766264909458)</td>\n",
       "      <td>1294895349577</td>\n",
       "    </tr>\n",
       "    <tr>\n",
       "      <th>148825</th>\n",
       "      <td>M758047</td>\n",
       "      <td>8</td>\n",
       "      <td>otc alterations permit</td>\n",
       "      <td>02/02/2017</td>\n",
       "      <td>0321</td>\n",
       "      <td>039</td>\n",
       "      <td>666</td>\n",
       "      <td>NaN</td>\n",
       "      <td>Ellis</td>\n",
       "      <td>St</td>\n",
       "      <td>...</td>\n",
       "      <td>NaN</td>\n",
       "      <td>NaN</td>\n",
       "      <td>NaN</td>\n",
       "      <td>NaN</td>\n",
       "      <td>NaN</td>\n",
       "      <td>6.0</td>\n",
       "      <td>Tenderloin</td>\n",
       "      <td>94109.0</td>\n",
       "      <td>(37.78458804160961, -122.4172393161285)</td>\n",
       "      <td>1452070233893</td>\n",
       "    </tr>\n",
       "    <tr>\n",
       "      <th>158935</th>\n",
       "      <td>M795147</td>\n",
       "      <td>8</td>\n",
       "      <td>otc alterations permit</td>\n",
       "      <td>06/08/2017</td>\n",
       "      <td>2116</td>\n",
       "      <td>003</td>\n",
       "      <td>1939</td>\n",
       "      <td>NaN</td>\n",
       "      <td>18th</td>\n",
       "      <td>Av</td>\n",
       "      <td>...</td>\n",
       "      <td>NaN</td>\n",
       "      <td>NaN</td>\n",
       "      <td>NaN</td>\n",
       "      <td>NaN</td>\n",
       "      <td>NaN</td>\n",
       "      <td>7.0</td>\n",
       "      <td>Inner Sunset</td>\n",
       "      <td>94116.0</td>\n",
       "      <td>(37.75164948767546, -122.4755169252058)</td>\n",
       "      <td>1466257126385</td>\n",
       "    </tr>\n",
       "    <tr>\n",
       "      <th>86906</th>\n",
       "      <td>201505277260</td>\n",
       "      <td>8</td>\n",
       "      <td>otc alterations permit</td>\n",
       "      <td>05/27/2015</td>\n",
       "      <td>2806</td>\n",
       "      <td>033</td>\n",
       "      <td>201</td>\n",
       "      <td>A</td>\n",
       "      <td>Hoffman</td>\n",
       "      <td>Av</td>\n",
       "      <td>...</td>\n",
       "      <td>5.0</td>\n",
       "      <td>wood frame (5)</td>\n",
       "      <td>5.0</td>\n",
       "      <td>wood frame (5)</td>\n",
       "      <td>NaN</td>\n",
       "      <td>8.0</td>\n",
       "      <td>Noe Valley</td>\n",
       "      <td>94114.0</td>\n",
       "      <td>(37.75238895435078, -122.44051411184059)</td>\n",
       "      <td>1382921453178</td>\n",
       "    </tr>\n",
       "    <tr>\n",
       "      <th>175038</th>\n",
       "      <td>201702149329</td>\n",
       "      <td>8</td>\n",
       "      <td>otc alterations permit</td>\n",
       "      <td>02/14/2017</td>\n",
       "      <td>3727</td>\n",
       "      <td>091</td>\n",
       "      <td>1125</td>\n",
       "      <td>NaN</td>\n",
       "      <td>Mission</td>\n",
       "      <td>St</td>\n",
       "      <td>...</td>\n",
       "      <td>3.0</td>\n",
       "      <td>constr type 3</td>\n",
       "      <td>3.0</td>\n",
       "      <td>constr type 3</td>\n",
       "      <td>NaN</td>\n",
       "      <td>6.0</td>\n",
       "      <td>South of Market</td>\n",
       "      <td>94103.0</td>\n",
       "      <td>(37.77848221901445, -122.41125995164383)</td>\n",
       "      <td>1453226165047</td>\n",
       "    </tr>\n",
       "    <tr>\n",
       "      <th>166743</th>\n",
       "      <td>201708255959</td>\n",
       "      <td>8</td>\n",
       "      <td>otc alterations permit</td>\n",
       "      <td>08/25/2017</td>\n",
       "      <td>0779</td>\n",
       "      <td>021</td>\n",
       "      <td>1291</td>\n",
       "      <td>NaN</td>\n",
       "      <td>Mcallister</td>\n",
       "      <td>St</td>\n",
       "      <td>...</td>\n",
       "      <td>5.0</td>\n",
       "      <td>wood frame (5)</td>\n",
       "      <td>5.0</td>\n",
       "      <td>wood frame (5)</td>\n",
       "      <td>NaN</td>\n",
       "      <td>5.0</td>\n",
       "      <td>Western Addition</td>\n",
       "      <td>94117.0</td>\n",
       "      <td>(37.778253037148495, -122.43303180744863)</td>\n",
       "      <td>1476193271772</td>\n",
       "    </tr>\n",
       "  </tbody>\n",
       "</table>\n",
       "<p>10 rows × 43 columns</p>\n",
       "</div>"
      ],
      "text/plain": [
       "       Permit Number  Permit Type  Permit Type Definition  \\\n",
       "43943   201404042459            8  otc alterations permit   \n",
       "27703        M434527            8  otc alterations permit   \n",
       "28325   201310189648            8  otc alterations permit   \n",
       "186032  201710161344            8  otc alterations permit   \n",
       "3152    201301319234            8  otc alterations permit   \n",
       "148825       M758047            8  otc alterations permit   \n",
       "158935       M795147            8  otc alterations permit   \n",
       "86906   201505277260            8  otc alterations permit   \n",
       "175038  201702149329            8  otc alterations permit   \n",
       "166743  201708255959            8  otc alterations permit   \n",
       "\n",
       "       Permit Creation Date Block  Lot  Street Number Street Number Suffix  \\\n",
       "43943            04/04/2014  3717  020            180                  NaN   \n",
       "27703            10/11/2013  0348  015            277                  NaN   \n",
       "28325            10/18/2013  0293  002            153                  NaN   \n",
       "186032           10/16/2017  5668  036            252                  NaN   \n",
       "3152             01/31/2013  0295  006            360                  NaN   \n",
       "148825           02/02/2017  0321  039            666                  NaN   \n",
       "158935           06/08/2017  2116  003           1939                  NaN   \n",
       "86906            05/27/2015  2806  033            201                    A   \n",
       "175038           02/14/2017  3727  091           1125                  NaN   \n",
       "166743           08/25/2017  0779  021           1291                  NaN   \n",
       "\n",
       "        Street Name Street Suffix  ...  Existing Construction Type  \\\n",
       "43943        Howard            St  ...                         1.0   \n",
       "27703   Golden Gate            Av  ...                         NaN   \n",
       "28325        Kearny            St  ...                         2.0   \n",
       "186032       Bocana            St  ...                         5.0   \n",
       "3152           Post            St  ...                         2.0   \n",
       "148825        Ellis            St  ...                         NaN   \n",
       "158935         18th            Av  ...                         NaN   \n",
       "86906       Hoffman            Av  ...                         5.0   \n",
       "175038      Mission            St  ...                         3.0   \n",
       "166743   Mcallister            St  ...                         5.0   \n",
       "\n",
       "       Existing Construction Type Description Proposed Construction Type  \\\n",
       "43943                           constr type 1                        1.0   \n",
       "27703                                     NaN                        NaN   \n",
       "28325                           constr type 2                        2.0   \n",
       "186032                         wood frame (5)                        5.0   \n",
       "3152                            constr type 2                        2.0   \n",
       "148825                                    NaN                        NaN   \n",
       "158935                                    NaN                        NaN   \n",
       "86906                          wood frame (5)                        5.0   \n",
       "175038                          constr type 3                        3.0   \n",
       "166743                         wood frame (5)                        5.0   \n",
       "\n",
       "       Proposed Construction Type Description Site Permit Supervisor District  \\\n",
       "43943                           constr type 1         NaN                 6.0   \n",
       "27703                                     NaN         NaN                 6.0   \n",
       "28325                           constr type 2         NaN                 3.0   \n",
       "186032                         wood frame (5)         NaN                 9.0   \n",
       "3152                            constr type 2         NaN                 3.0   \n",
       "148825                                    NaN         NaN                 6.0   \n",
       "158935                                    NaN         NaN                 7.0   \n",
       "86906                          wood frame (5)         NaN                 8.0   \n",
       "175038                          constr type 3         NaN                 6.0   \n",
       "166743                         wood frame (5)         NaN                 5.0   \n",
       "\n",
       "       Neighborhoods - Analysis Boundaries  Zipcode  \\\n",
       "43943       Financial District/South Beach  94105.0   \n",
       "27703                           Tenderloin  94102.0   \n",
       "28325       Financial District/South Beach  94108.0   \n",
       "186032                      Bernal Heights  94110.0   \n",
       "3152        Financial District/South Beach  94108.0   \n",
       "148825                          Tenderloin  94109.0   \n",
       "158935                        Inner Sunset  94116.0   \n",
       "86906                           Noe Valley  94114.0   \n",
       "175038                     South of Market  94103.0   \n",
       "166743                    Western Addition  94117.0   \n",
       "\n",
       "                                         Location      Record ID  \n",
       "43943    (37.79103704563755, -122.39339256466593)  1337632164641  \n",
       "27703   (37.781433365757565, -122.41487518938789)  1320626301305  \n",
       "28325   (37.789494522433245, -122.40409875138413)   132127667116  \n",
       "186032   (37.73976205873759, -122.41852829389565)  1483507186394  \n",
       "3152    (37.788672673732066, -122.40766264909458)  1294895349577  \n",
       "148825    (37.78458804160961, -122.4172393161285)  1452070233893  \n",
       "158935    (37.75164948767546, -122.4755169252058)  1466257126385  \n",
       "86906    (37.75238895435078, -122.44051411184059)  1382921453178  \n",
       "175038   (37.77848221901445, -122.41125995164383)  1453226165047  \n",
       "166743  (37.778253037148495, -122.43303180744863)  1476193271772  \n",
       "\n",
       "[10 rows x 43 columns]"
      ]
     },
     "execution_count": 48,
     "metadata": {},
     "output_type": "execute_result"
    }
   ],
   "source": [
    "# Your turn! Try replacing all the NaN's in the sf_permits data with the one that\n",
    "# comes directly after it and then replacing any remaining NaN's with 0\n",
    "sf_permits.sample(10)\n",
    "subset_sf_permits = sf_permits.loc[:, 'Fire Only Permit':'Zipcode'].head()\n",
    "subset_sf_permits.fillna(method = 'bfill', axis=0).fillna(0)"
   ]
  },
  {
   "cell_type": "markdown",
   "metadata": {
    "_cell_guid": "b4f37fce-4d08-409e-bbbd-6a26c3bbc6ee",
    "_uuid": "52b0af56e3c77db96056e9acd785f8f435f7caf5"
   },
   "source": [
    "And that's it for today! If you have any questions, be sure to post them in the comments below or [on the forums](https://www.kaggle.com/questions-and-answers). \n",
    "\n",
    "Remember that your notebook is private by default, and in order to share it with other people or ask for help with it, you'll need to make it public. First, you'll need to save a version of your notebook that shows your current work by hitting the \"Commit & Run\" button. (Your work is saved automatically, but versioning your work lets you go back and look at what it was like at the point you saved it. It also let's you share a nice compiled notebook instead of just the raw code.) Then, once your notebook is finished running, you can go to the Settings tab in the panel to the left (you may have to expand it by hitting the [<] button next to the \"Commit & Run\" button) and setting the \"Visibility\" dropdown to \"Public\".\n",
    "\n",
    "# More practice!\n",
    "___\n",
    "\n",
    "If you're looking for more practice handling missing values, check out these extra-credit\\* exercises:\n",
    "\n",
    "* [Handling Missing Values](https://www.kaggle.com/dansbecker/handling-missing-values): In this notebook Dan shows you several approaches to imputing missing data using scikit-learn's imputer. \n",
    "* Look back at the `Zipcode` column in the `sf_permits` dataset, which has some missing values. How would you go about figuring out what the actual zipcode of each address should be? (You might try using another dataset. You can search for datasets about San Fransisco on the [Datasets listing](https://www.kaggle.com/datasets).) \n",
    "\n",
    "\\* no actual credit is given for completing the challenge, you just learn how to clean data real good :P"
   ]
  }
 ],
 "metadata": {
  "kaggle": {
   "accelerator": "none",
   "dataSources": [
    {
     "datasetId": 16432,
     "sourceId": 21688,
     "sourceType": "datasetVersion"
    },
    {
     "datasetId": 1726,
     "sourceId": 221448,
     "sourceType": "datasetVersion"
    }
   ],
   "dockerImageVersionId": 283,
   "isGpuEnabled": false,
   "isInternetEnabled": false,
   "language": "python",
   "sourceType": "notebook"
  },
  "kernelspec": {
   "display_name": "stats-and-probability",
   "language": "python",
   "name": "python3"
  },
  "language_info": {
   "codemirror_mode": {
    "name": "ipython",
    "version": 3
   },
   "file_extension": ".py",
   "mimetype": "text/x-python",
   "name": "python",
   "nbconvert_exporter": "python",
   "pygments_lexer": "ipython3",
   "version": "3.10.17"
  }
 },
 "nbformat": 4,
 "nbformat_minor": 4
}
